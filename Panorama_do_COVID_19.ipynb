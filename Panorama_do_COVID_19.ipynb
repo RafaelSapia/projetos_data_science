{
  "nbformat": 4,
  "nbformat_minor": 0,
  "metadata": {
    "colab": {
      "name": "Panorama do COVID-19.ipynb",
      "provenance": [],
      "collapsed_sections": [],
      "include_colab_link": true
    },
    "kernelspec": {
      "name": "python3",
      "display_name": "Python 3"
    }
  },
  "cells": [
    {
      "cell_type": "markdown",
      "metadata": {
        "id": "view-in-github",
        "colab_type": "text"
      },
      "source": [
        "<a href=\"https://colab.research.google.com/github/RafaelSapia/projetos_data_science/blob/master/Panorama_do_COVID_19.ipynb\" target=\"_parent\"><img src=\"https://colab.research.google.com/assets/colab-badge.svg\" alt=\"Open In Colab\"/></a>"
      ]
    },
    {
      "cell_type": "markdown",
      "metadata": {
        "id": "-eFQZydM9O9J",
        "colab_type": "text"
      },
      "source": [
        "<img alt=\"Colaboratory logo\" width=\"15%\" src=\"https://raw.githubusercontent.com/carlosfab/escola-data-science/master/img/novo_logo_bg_claro.png\">\n",
        "\n",
        "#### **Data Science na Prática 2.0**\n",
        "*by [sigmoidal.ai](https://sigmoidal.ai)*  \n",
        "\n",
        "---\n",
        "  "
      ]
    },
    {
      "cell_type": "markdown",
      "metadata": {
        "id": "kLI0gJtzDGuQ",
        "colab_type": "text"
      },
      "source": [
        "# Panorama da COVID-19 no Brasil\n",
        "\n",
        "COVID-19 é uma doença infecciosa causada por recém-descoberto coronavírus.\n",
        "\n",
        "Transmitido principalmente por meio de gotículas provenientes de tosses ou espirros de pessoas infectadas, a gravidade dos sintomas varia muito de pessoa para pessoa.\n",
        "\n",
        "Fato é, não se sabe muita coisa a respeito da COVID-19. Estudos estão sendo realizados no mundo todo, porém os resultados ainda não são conclusivos e definitivos.\n",
        "\n",
        "<center><img alt=\"Colaboratory logo\" width=\"50%\" src=\"https://raw.githubusercontent.com/carlosfab/dsnp2/master/img/covid19.jpg\"></center>\n",
        "\n",
        "Até o presente momento, observa-se que cerca de 80% dos casos confirmados são assintomáticos e rápidos. A maioria das pessoas que se encaixam nesse grupo, se recupera sem nenhuma sequela.\n",
        "\n",
        "No entanto, 15% das pessoas terão infecções graves e precisarão de oxigênio. O restante das pessoas, que representam 5%, serão classificadas como infecções muito graves e precisarão de ventilação assistida, por meio de respiradores mecânicos em ambiente hospitalar.\n",
        "\n",
        "Com o objetivo de elevar a consciência situacional a respeito da COVID-19 no Brasil, irei realizar uma análise sobre os dados públicos da doença."
      ]
    },
    {
      "cell_type": "markdown",
      "metadata": {
        "id": "0zxQHhIUDF_2",
        "colab_type": "text"
      },
      "source": [
        "## Obtenção dos Dados\n",
        "\n",
        "Os dados utilizados aqui neste projeto são provenientes do [Our World in Data](https://ourworldindata.org/), uma organização que busca tornar cada vez mais presente o *data driven* no mundo, ou seja, o direcionamento de decisões por meio dos dados.\n",
        "\n",
        "Dentro do site dessa organização existe uma [grande parte focada somente na pandemia causada pela COVID-19](https://ourworldindata.org/coronavirus) que estamos passando. Lá é possivel acompanhar, com atualizações diárias, como evolui a pandemia em todas as partes do globo.\n",
        "\n",
        "Por meio da plataforma do [Github](https://github.com/owid/covid-19-data/tree/master/public/data) eles disponibilizam os dados atualizados sobre a COVID-19. O arquivo que será usado aqui nesta análise é encontrado no link acima e possui a extensão `csv`.\n",
        "\n",
        "É uma base de dados muito completa como será apresentado logo abaixo, possui uma grande quantidade de paises. Ela oferece desde o número total de infectados até o dia 20/06/2020, até o PIB *per capita* de cada país presente na base de dados.\n",
        "\n",
        "Apesar de essa ser uma base de dados boa para se trabalhar sobre este assunto, não é comum encontrarmos isso. Muitas informações compartilhadas, principalmente via *internet*, se enquadram como *fake news* e só prejudicam a caminhada para o fim dessa crise. Outro ponto é a dificuldade intrínseca de se analisar uma coisa muito nova pelo fato de termos poucas conclusões concretas sobre o assunto, como dito na introdução. \n",
        "\n",
        "Além disso, vale ressaltar que apesar destes dados serem atuais, pode ser que em alguma outra base de dados, principalmente aquelas associadas aos governos, estejam com dados diferentes. \n",
        "\n",
        "Por fim, antes de entrarmos na análise propriamente, digo de antemão que não colocarei minha opnião aqui sobre o assunto, apenas farei análises em cima dos dados e colocarei alguns insghts que se pode tirar em cima do que estesdados nos mostram.\n"
      ]
    },
    {
      "cell_type": "markdown",
      "metadata": {
        "id": "cOwIFLCpHYxS",
        "colab_type": "text"
      },
      "source": [
        "### Dicionário de Variáveis\n",
        "\n",
        "Para iniciar o estudo da COVID-19 farei aqui um dicionário de todas as variáveis do *dataset* para que fique claro e fácil de encontrar o que cada uma significa.\n",
        "\n",
        "   * `ìsocode` - Abreviação do nome de cada país segundo o ISO 3166-1 alfa-3\n",
        "   * `continent` - Continente que o país pertence \n",
        "   * `location` - Nome do país em questão\n",
        "   * `date` - Data do momento da coleta dos dados\n",
        "   * `total_cases` - Número total de casos confirmados da COVID-19\n",
        "   * `new_cases` - Novos casos confirmados da COVID-19 \n",
        "   * `total_deaths` - Total de mortes atribuidas à COVID-19\n",
        "   * `new_deaths` - Novas mortes atribuidas à COVID-19\n",
        "   * `total_cases_per_million` - Total de casos confirmados da COVID-19 por 1.000.000 de pessoas\n",
        "   * `new_cases_per_million` - Novos casos confirmados da COVID-19 por 1.000.000 de pessoas\n",
        "   * `total_deaths_per_million` - Total de mortes atribuidas à COVID-19 por 1.000.000 de pessoas\n",
        "   * `new_deaths_per_million` - Novas mortes atribuidas à COVID-19 por 1.000.000 de pessoas\n",
        "   * `total_tests` - Total de testes feitos para COVID-19\n",
        "   * `new_tests` - Novos testes para COVID-19\n",
        "   * `total_tests_per_thousand` - Total de casos confirmados da COVID-19 por 1.000 de pessoas\n",
        "   * `new_tests_per_thousand` - Novos casos confirmados da COVID-19 por 1.000 de pessoas\n",
        "   * `new_tests_smoothed` - Novos testes para COVID-19 suavidados. Para países que não reportam diariamente o número de novos testes feitos, é pego o ultimo reporte dado e é aplicado a todos os dias que não se tem os dados.\n",
        "   * `new_tests_smoothed_ per_thousand` -  Novos testes para COVID-19 suavisados por 1.000 de pessoas\n",
        "   * `tests_units` - Unidades usadas por localização para reportar os dados de teste\n",
        "   * `stringency_index` - Indice de Rigor baseado em 9 indicadores incluindo fechamento de escolas, de locais de trabalho e suspensão de viajens. A escala desde indicador vai de 0 a 100, sendo 100 o mais rigoroso.\n",
        "   * `population` - População do país em 2020\n",
        "   * `population_density` - Densidade populacional (população divido pela área total do país)\n",
        "   * `median_age` - Média de idade do país\n",
        "   * `aged_65_older` - Parte da população com 65 anos ou mais \n",
        "   * `aged_70_older` - Parte da população com 70 anos ou mais\n",
        "   * `gdp_per_capita` - PIB per capita\n",
        "   * `extreme_poverty` - Parte da população que vive sob pobreza extrema\n",
        "   * `cvd_death_rate` - Taxa de mortes por doenças cardiovasculares em 2017\n",
        "   * `diabetes_prevalence` - Prevalência de diabetes na população (dado em porcentagem e calculado em pessoas com idades entre 18 e 79\n",
        "   * `female_smokers` - Parte da população feminina que fuma\n",
        "   * `male_smokers` - Parte da população masculina que fuma\n",
        "   * `handwashing_facilities` - Parte da população que possui instalações básicas para higiene das mãos\n",
        "   * `hospital_beds_per_thousand` - Número de leitos hospitalares por 1000 pessoas\n",
        "   * `life_expectancy` - Expectativa de vida em 2019"
      ]
    },
    {
      "cell_type": "markdown",
      "metadata": {
        "id": "P-g0VtYOHh8j",
        "colab_type": "text"
      },
      "source": [
        "### Importando os dados da COVID-19 e bibliotecas que serão usadas\n",
        "\n",
        "Para iniciar precisamos importar os pacotes que usaremos pra trabalhar os dados e instaciar em uma variável o conjunto de dados que usaremos. Tais processos estão feitos abaixo.\n"
      ]
    },
    {
      "cell_type": "code",
      "metadata": {
        "id": "lOtEJxe0DMEb",
        "colab_type": "code",
        "colab": {}
      },
      "source": [
        "# importar as bibliotecas necessárias\n",
        "import pandas as pd\n",
        "import matplotlib.pyplot as plt\n",
        "import seaborn as sns\n",
        "\n",
        "%matplotlib inline\n",
        "\n",
        "\n",
        "# importar o dataset COVID-19 para um DataaFrame\n",
        "\n",
        "\n",
        "df = pd.read_csv(\"/content/owid-covid-data.csv\")"
      ],
      "execution_count": null,
      "outputs": []
    },
    {
      "cell_type": "markdown",
      "metadata": {
        "id": "qb5By2nIMS6m",
        "colab_type": "text"
      },
      "source": [
        "## Análise Exploratória dos Dados\n",
        "\n",
        "Começaremos agora as análises iniciais sobre o nosso *dataset*. Esta parte é essencial, pois ela servirá de base para todo o resto do estudo. \n",
        "\n",
        "Aqui conheceremos a cara do nosso conjunto de dados, veremos se existem valores nulos, se é necessário mudar o tipo de alguma variável, entre outras análises. \n",
        "\n",
        "Vale lembrar que este *dataset* contém dados até o dia 20/06/2020, portanto os dados utilizados estão atualizados até este dia. Provavelmente no momento da postagem ja haverá dados mais atualizados, visto que o site que fornece estes dados os atualizam diariamente.\n"
      ]
    },
    {
      "cell_type": "markdown",
      "metadata": {
        "id": "_gxhFbXY92T-",
        "colab_type": "text"
      },
      "source": [
        "### Visualizando as primeiras entradas\n",
        "\n",
        "Veremos aqui, utilizando a função `head` as cinco primeiras entradas do *dataset* para nos familiarizarmos com ele."
      ]
    },
    {
      "cell_type": "code",
      "metadata": {
        "id": "pjz-Awyh-fko",
        "colab_type": "code",
        "colab": {
          "base_uri": "https://localhost:8080/",
          "height": 298
        },
        "outputId": "010690f6-bc51-4b1a-e8d3-fe457ba177ba"
      },
      "source": [
        "# vendo 5 primeiras entradas \n",
        "\n",
        "df.head()"
      ],
      "execution_count": null,
      "outputs": [
        {
          "output_type": "execute_result",
          "data": {
            "text/html": [
              "<div>\n",
              "<style scoped>\n",
              "    .dataframe tbody tr th:only-of-type {\n",
              "        vertical-align: middle;\n",
              "    }\n",
              "\n",
              "    .dataframe tbody tr th {\n",
              "        vertical-align: top;\n",
              "    }\n",
              "\n",
              "    .dataframe thead th {\n",
              "        text-align: right;\n",
              "    }\n",
              "</style>\n",
              "<table border=\"1\" class=\"dataframe\">\n",
              "  <thead>\n",
              "    <tr style=\"text-align: right;\">\n",
              "      <th></th>\n",
              "      <th>iso_code</th>\n",
              "      <th>continent</th>\n",
              "      <th>location</th>\n",
              "      <th>date</th>\n",
              "      <th>total_cases</th>\n",
              "      <th>new_cases</th>\n",
              "      <th>total_deaths</th>\n",
              "      <th>new_deaths</th>\n",
              "      <th>total_cases_per_million</th>\n",
              "      <th>new_cases_per_million</th>\n",
              "      <th>total_deaths_per_million</th>\n",
              "      <th>new_deaths_per_million</th>\n",
              "      <th>total_tests</th>\n",
              "      <th>new_tests</th>\n",
              "      <th>total_tests_per_thousand</th>\n",
              "      <th>new_tests_per_thousand</th>\n",
              "      <th>new_tests_smoothed</th>\n",
              "      <th>new_tests_smoothed_per_thousand</th>\n",
              "      <th>tests_units</th>\n",
              "      <th>stringency_index</th>\n",
              "      <th>population</th>\n",
              "      <th>population_density</th>\n",
              "      <th>median_age</th>\n",
              "      <th>aged_65_older</th>\n",
              "      <th>aged_70_older</th>\n",
              "      <th>gdp_per_capita</th>\n",
              "      <th>extreme_poverty</th>\n",
              "      <th>cvd_death_rate</th>\n",
              "      <th>diabetes_prevalence</th>\n",
              "      <th>female_smokers</th>\n",
              "      <th>male_smokers</th>\n",
              "      <th>handwashing_facilities</th>\n",
              "      <th>hospital_beds_per_thousand</th>\n",
              "      <th>life_expectancy</th>\n",
              "    </tr>\n",
              "  </thead>\n",
              "  <tbody>\n",
              "    <tr>\n",
              "      <th>0</th>\n",
              "      <td>AFG</td>\n",
              "      <td>Asia</td>\n",
              "      <td>Afghanistan</td>\n",
              "      <td>2019-12-31</td>\n",
              "      <td>0.0</td>\n",
              "      <td>0.0</td>\n",
              "      <td>0.0</td>\n",
              "      <td>0.0</td>\n",
              "      <td>0.0</td>\n",
              "      <td>0.0</td>\n",
              "      <td>0.0</td>\n",
              "      <td>0.0</td>\n",
              "      <td>NaN</td>\n",
              "      <td>NaN</td>\n",
              "      <td>NaN</td>\n",
              "      <td>NaN</td>\n",
              "      <td>NaN</td>\n",
              "      <td>NaN</td>\n",
              "      <td>NaN</td>\n",
              "      <td>NaN</td>\n",
              "      <td>38928341</td>\n",
              "      <td>54.422</td>\n",
              "      <td>18.6</td>\n",
              "      <td>2.581</td>\n",
              "      <td>1.337</td>\n",
              "      <td>1803.987</td>\n",
              "      <td>NaN</td>\n",
              "      <td>597.029</td>\n",
              "      <td>9.59</td>\n",
              "      <td>NaN</td>\n",
              "      <td>NaN</td>\n",
              "      <td>37.746</td>\n",
              "      <td>0.5</td>\n",
              "      <td>64.83</td>\n",
              "    </tr>\n",
              "    <tr>\n",
              "      <th>1</th>\n",
              "      <td>AFG</td>\n",
              "      <td>Asia</td>\n",
              "      <td>Afghanistan</td>\n",
              "      <td>2020-01-01</td>\n",
              "      <td>0.0</td>\n",
              "      <td>0.0</td>\n",
              "      <td>0.0</td>\n",
              "      <td>0.0</td>\n",
              "      <td>0.0</td>\n",
              "      <td>0.0</td>\n",
              "      <td>0.0</td>\n",
              "      <td>0.0</td>\n",
              "      <td>NaN</td>\n",
              "      <td>NaN</td>\n",
              "      <td>NaN</td>\n",
              "      <td>NaN</td>\n",
              "      <td>NaN</td>\n",
              "      <td>NaN</td>\n",
              "      <td>NaN</td>\n",
              "      <td>0.0</td>\n",
              "      <td>38928341</td>\n",
              "      <td>54.422</td>\n",
              "      <td>18.6</td>\n",
              "      <td>2.581</td>\n",
              "      <td>1.337</td>\n",
              "      <td>1803.987</td>\n",
              "      <td>NaN</td>\n",
              "      <td>597.029</td>\n",
              "      <td>9.59</td>\n",
              "      <td>NaN</td>\n",
              "      <td>NaN</td>\n",
              "      <td>37.746</td>\n",
              "      <td>0.5</td>\n",
              "      <td>64.83</td>\n",
              "    </tr>\n",
              "    <tr>\n",
              "      <th>2</th>\n",
              "      <td>AFG</td>\n",
              "      <td>Asia</td>\n",
              "      <td>Afghanistan</td>\n",
              "      <td>2020-01-02</td>\n",
              "      <td>0.0</td>\n",
              "      <td>0.0</td>\n",
              "      <td>0.0</td>\n",
              "      <td>0.0</td>\n",
              "      <td>0.0</td>\n",
              "      <td>0.0</td>\n",
              "      <td>0.0</td>\n",
              "      <td>0.0</td>\n",
              "      <td>NaN</td>\n",
              "      <td>NaN</td>\n",
              "      <td>NaN</td>\n",
              "      <td>NaN</td>\n",
              "      <td>NaN</td>\n",
              "      <td>NaN</td>\n",
              "      <td>NaN</td>\n",
              "      <td>0.0</td>\n",
              "      <td>38928341</td>\n",
              "      <td>54.422</td>\n",
              "      <td>18.6</td>\n",
              "      <td>2.581</td>\n",
              "      <td>1.337</td>\n",
              "      <td>1803.987</td>\n",
              "      <td>NaN</td>\n",
              "      <td>597.029</td>\n",
              "      <td>9.59</td>\n",
              "      <td>NaN</td>\n",
              "      <td>NaN</td>\n",
              "      <td>37.746</td>\n",
              "      <td>0.5</td>\n",
              "      <td>64.83</td>\n",
              "    </tr>\n",
              "    <tr>\n",
              "      <th>3</th>\n",
              "      <td>AFG</td>\n",
              "      <td>Asia</td>\n",
              "      <td>Afghanistan</td>\n",
              "      <td>2020-01-03</td>\n",
              "      <td>0.0</td>\n",
              "      <td>0.0</td>\n",
              "      <td>0.0</td>\n",
              "      <td>0.0</td>\n",
              "      <td>0.0</td>\n",
              "      <td>0.0</td>\n",
              "      <td>0.0</td>\n",
              "      <td>0.0</td>\n",
              "      <td>NaN</td>\n",
              "      <td>NaN</td>\n",
              "      <td>NaN</td>\n",
              "      <td>NaN</td>\n",
              "      <td>NaN</td>\n",
              "      <td>NaN</td>\n",
              "      <td>NaN</td>\n",
              "      <td>0.0</td>\n",
              "      <td>38928341</td>\n",
              "      <td>54.422</td>\n",
              "      <td>18.6</td>\n",
              "      <td>2.581</td>\n",
              "      <td>1.337</td>\n",
              "      <td>1803.987</td>\n",
              "      <td>NaN</td>\n",
              "      <td>597.029</td>\n",
              "      <td>9.59</td>\n",
              "      <td>NaN</td>\n",
              "      <td>NaN</td>\n",
              "      <td>37.746</td>\n",
              "      <td>0.5</td>\n",
              "      <td>64.83</td>\n",
              "    </tr>\n",
              "    <tr>\n",
              "      <th>4</th>\n",
              "      <td>AFG</td>\n",
              "      <td>Asia</td>\n",
              "      <td>Afghanistan</td>\n",
              "      <td>2020-01-04</td>\n",
              "      <td>0.0</td>\n",
              "      <td>0.0</td>\n",
              "      <td>0.0</td>\n",
              "      <td>0.0</td>\n",
              "      <td>0.0</td>\n",
              "      <td>0.0</td>\n",
              "      <td>0.0</td>\n",
              "      <td>0.0</td>\n",
              "      <td>NaN</td>\n",
              "      <td>NaN</td>\n",
              "      <td>NaN</td>\n",
              "      <td>NaN</td>\n",
              "      <td>NaN</td>\n",
              "      <td>NaN</td>\n",
              "      <td>NaN</td>\n",
              "      <td>0.0</td>\n",
              "      <td>38928341</td>\n",
              "      <td>54.422</td>\n",
              "      <td>18.6</td>\n",
              "      <td>2.581</td>\n",
              "      <td>1.337</td>\n",
              "      <td>1803.987</td>\n",
              "      <td>NaN</td>\n",
              "      <td>597.029</td>\n",
              "      <td>9.59</td>\n",
              "      <td>NaN</td>\n",
              "      <td>NaN</td>\n",
              "      <td>37.746</td>\n",
              "      <td>0.5</td>\n",
              "      <td>64.83</td>\n",
              "    </tr>\n",
              "  </tbody>\n",
              "</table>\n",
              "</div>"
            ],
            "text/plain": [
              "  iso_code continent  ... hospital_beds_per_thousand life_expectancy\n",
              "0      AFG      Asia  ...                        0.5           64.83\n",
              "1      AFG      Asia  ...                        0.5           64.83\n",
              "2      AFG      Asia  ...                        0.5           64.83\n",
              "3      AFG      Asia  ...                        0.5           64.83\n",
              "4      AFG      Asia  ...                        0.5           64.83\n",
              "\n",
              "[5 rows x 34 columns]"
            ]
          },
          "metadata": {
            "tags": []
          },
          "execution_count": 11
        }
      ]
    },
    {
      "cell_type": "markdown",
      "metadata": {
        "id": "-u20Uy2d90nl",
        "colab_type": "text"
      },
      "source": [
        "Ai estão as 5 primeiras entradas. Note que temos variáveis do tipo texto (string) e variáveis numéricas (contínuas), e também temos uma variável que contém data, é possível que para esta seja preciso uma troca de tipo caso ela esteja com o tipo string. Além disso note que temos colunas com valores nulos, nas próximas análises vamos observa-los melhor."
      ]
    },
    {
      "cell_type": "markdown",
      "metadata": {
        "id": "eK8zpb4LARM1",
        "colab_type": "text"
      },
      "source": [
        "### Tipo das Variáveis\n",
        "\n",
        "Como dito acima, temos variáveis de vários tipos e talvez precisaremos mudar o tipo de uma delas. Analisaremos melhor este ponto agora utilizando o método `dtypes`."
      ]
    },
    {
      "cell_type": "code",
      "metadata": {
        "id": "VWgiSyTgAtro",
        "colab_type": "code",
        "colab": {
          "base_uri": "https://localhost:8080/",
          "height": 639
        },
        "outputId": "ea004457-6cb4-4bdf-a384-19289880a4f5"
      },
      "source": [
        "# vendo tipo das variaveis\n",
        "\n",
        "df.dtypes"
      ],
      "execution_count": null,
      "outputs": [
        {
          "output_type": "execute_result",
          "data": {
            "text/plain": [
              "iso_code                            object\n",
              "continent                           object\n",
              "location                            object\n",
              "date                                object\n",
              "total_cases                        float64\n",
              "new_cases                          float64\n",
              "total_deaths                       float64\n",
              "new_deaths                         float64\n",
              "total_cases_per_million            float64\n",
              "new_cases_per_million              float64\n",
              "total_deaths_per_million           float64\n",
              "new_deaths_per_million             float64\n",
              "total_tests                        float64\n",
              "new_tests                          float64\n",
              "total_tests_per_thousand           float64\n",
              "new_tests_per_thousand             float64\n",
              "new_tests_smoothed                 float64\n",
              "new_tests_smoothed_per_thousand    float64\n",
              "tests_units                         object\n",
              "stringency_index                   float64\n",
              "population                           int64\n",
              "population_density                 float64\n",
              "median_age                         float64\n",
              "aged_65_older                      float64\n",
              "aged_70_older                      float64\n",
              "gdp_per_capita                     float64\n",
              "extreme_poverty                    float64\n",
              "cvd_death_rate                     float64\n",
              "diabetes_prevalence                float64\n",
              "female_smokers                     float64\n",
              "male_smokers                       float64\n",
              "handwashing_facilities             float64\n",
              "hospital_beds_per_thousand         float64\n",
              "life_expectancy                    float64\n",
              "dtype: object"
            ]
          },
          "metadata": {
            "tags": []
          },
          "execution_count": 8
        }
      ]
    },
    {
      "cell_type": "markdown",
      "metadata": {
        "id": "rUzLGrhmBK7k",
        "colab_type": "text"
      },
      "source": [
        "Como podemos observar a única variável que precisaremos mexer é `date`. Para conseguirmos trabalhar com data é necessário que a váriavel que as contém esteja com o tipo `datetime` e não como string representado acima como `object`.\n",
        "\n",
        "Abaixo faremos a transformação utilizando a função `datetime`."
      ]
    },
    {
      "cell_type": "code",
      "metadata": {
        "id": "S1WmkpKRBx8c",
        "colab_type": "code",
        "colab": {}
      },
      "source": [
        "# transformando a variavel date\n",
        "\n",
        "df.date = pd.to_datetime(df.date)"
      ],
      "execution_count": null,
      "outputs": []
    },
    {
      "cell_type": "markdown",
      "metadata": {
        "id": "m_gt85FACF9J",
        "colab_type": "text"
      },
      "source": [
        "### Observando o tamanho do Conjunto de Dados\n",
        "\n",
        "Observaremos agora o tamanho do conjunto de dados, ou seja, veremos a quantidade de linhas (entradas) e a quantidade de colunas (variáveis) do *dataset*. Precisamos saber esta informação para termos uma ideia da quantidade de dados que estamos trabalhando e ter uma noção inicial sobre a confiabilidade dos resultados que obteremos.\n",
        "\n",
        "Usaremos para observar o tamanho do *dataset* o método `shape`."
      ]
    },
    {
      "cell_type": "code",
      "metadata": {
        "id": "TYEjhj4VC46v",
        "colab_type": "code",
        "colab": {
          "base_uri": "https://localhost:8080/",
          "height": 52
        },
        "outputId": "e9474fad-ebfa-4a1c-9bb4-1e244aad2656"
      },
      "source": [
        "# vendo tamanho do dataset\n",
        "\n",
        "print(\"Quantidade de entradas (linhas): {}\".format(df.shape[0]))\n",
        "print(\"Quantidade de variáveis (colunas): {}\".format(df.shape[1]))"
      ],
      "execution_count": null,
      "outputs": [
        {
          "output_type": "stream",
          "text": [
            "Quantidade de entradas (linhas): 24742\n",
            "Quantidade de variáveis (colunas): 34\n"
          ],
          "name": "stdout"
        }
      ]
    },
    {
      "cell_type": "markdown",
      "metadata": {
        "id": "aGtXgvcgDNjU",
        "colab_type": "text"
      },
      "source": [
        "Podemos ver que temos uma boa quantidade de entradas, portanto temos uma quantidade suficiente de dados para obter resultados confiáveis. Além disso podemos observar que temos 34 variáveis, ou seja, temos bastante informação sobre cada entrada (lembre-se de que você pode conferir melhor o que cada uma significa no dicionário de variáveis). "
      ]
    },
    {
      "cell_type": "markdown",
      "metadata": {
        "id": "JOzfnD6uD0uv",
        "colab_type": "text"
      },
      "source": [
        "### Observando nome das Colunas (variáveis)\n",
        "\n",
        "Apesar de ja termos descrito o nome de cada variável no dicionário de variáveis e observado a sequência que elas se apresentam no *dataset*, utilizaremos aqui o método `columns` para deixar registrado o nome de todas juntas na sequência que se apresentam no conjunto de dados com o intuito de facilitar ainda mais a leitura e a análise delas."
      ]
    },
    {
      "cell_type": "code",
      "metadata": {
        "id": "-uAG2jKkEktl",
        "colab_type": "code",
        "colab": {
          "base_uri": "https://localhost:8080/",
          "height": 230
        },
        "outputId": "57c71d40-8192-49b4-d54b-cf2eec6d94be"
      },
      "source": [
        "# nome das colunas\n",
        "\n",
        "df.columns"
      ],
      "execution_count": null,
      "outputs": [
        {
          "output_type": "execute_result",
          "data": {
            "text/plain": [
              "Index(['iso_code', 'continent', 'location', 'date', 'total_cases', 'new_cases',\n",
              "       'total_deaths', 'new_deaths', 'total_cases_per_million',\n",
              "       'new_cases_per_million', 'total_deaths_per_million',\n",
              "       'new_deaths_per_million', 'total_tests', 'new_tests',\n",
              "       'total_tests_per_thousand', 'new_tests_per_thousand',\n",
              "       'new_tests_smoothed', 'new_tests_smoothed_per_thousand', 'tests_units',\n",
              "       'stringency_index', 'population', 'population_density', 'median_age',\n",
              "       'aged_65_older', 'aged_70_older', 'gdp_per_capita', 'extreme_poverty',\n",
              "       'cvd_death_rate', 'diabetes_prevalence', 'female_smokers',\n",
              "       'male_smokers', 'handwashing_facilities', 'hospital_beds_per_thousand',\n",
              "       'life_expectancy'],\n",
              "      dtype='object')"
            ]
          },
          "metadata": {
            "tags": []
          },
          "execution_count": 16
        }
      ]
    },
    {
      "cell_type": "markdown",
      "metadata": {
        "id": "IjalhaxeEooo",
        "colab_type": "text"
      },
      "source": [
        "### Vendo valores Nulos\n",
        "\n",
        "Valores nulos quase sempre aparecerão quando trabalhamos com dados e sempre são um problema, pois eles reduzem a precisão do estudo e dificulta a execução do mesmo. Por isso, sempre devemos observa-los com o objetivo de descobrir em quais variáveis eles estão presente e decidir o que faremos com eles.\n",
        "\n",
        "É possível simplesmente retira-los ou completa-los com algum valor pertinente. Para essa decisão precisamos, entre outras coisas, observar a magnitude da quantidade desses valores ausentes. Faremos isso abaixo mostrando a porcentagem deles em relação ao total de valores (entradas)."
      ]
    },
    {
      "cell_type": "code",
      "metadata": {
        "id": "M_wo_J46FXTV",
        "colab_type": "code",
        "colab": {
          "base_uri": "https://localhost:8080/",
          "height": 639
        },
        "outputId": "737547e0-40bb-41b0-b5f1-c9004e83a555"
      },
      "source": [
        "# porcentagem de valores nulos\n",
        "\n",
        "(df.isnull().sum() / df.shape[0]) * 100"
      ],
      "execution_count": null,
      "outputs": [
        {
          "output_type": "execute_result",
          "data": {
            "text/plain": [
              "iso_code                            0.000000\n",
              "continent                           0.699216\n",
              "location                            0.000000\n",
              "date                                0.000000\n",
              "total_cases                         0.909385\n",
              "new_cases                           0.909385\n",
              "total_deaths                        0.913427\n",
              "new_deaths                          0.913427\n",
              "total_cases_per_million             0.909385\n",
              "new_cases_per_million               0.909385\n",
              "total_deaths_per_million            0.913427\n",
              "new_deaths_per_million              0.913427\n",
              "total_tests                        71.776736\n",
              "new_tests                          74.440223\n",
              "total_tests_per_thousand           71.776736\n",
              "new_tests_per_thousand             74.440223\n",
              "new_tests_smoothed                 69.404252\n",
              "new_tests_smoothed_per_thousand    69.404252\n",
              "tests_units                        66.910517\n",
              "stringency_index                   18.656535\n",
              "population                          0.000000\n",
              "population_density                  3.698165\n",
              "median_age                          8.301673\n",
              "aged_65_older                       9.586937\n",
              "aged_70_older                       8.770512\n",
              "gdp_per_capita                      9.663730\n",
              "extreme_poverty                    39.439011\n",
              "cvd_death_rate                      8.241048\n",
              "diabetes_prevalence                 5.238057\n",
              "female_smokers                     26.226659\n",
              "male_smokers                       27.067335\n",
              "handwashing_facilities             58.940264\n",
              "hospital_beds_per_thousand         15.960715\n",
              "life_expectancy                     1.143804\n",
              "dtype: float64"
            ]
          },
          "metadata": {
            "tags": []
          },
          "execution_count": 17
        }
      ]
    },
    {
      "cell_type": "markdown",
      "metadata": {
        "id": "kXIlk_ARHQsJ",
        "colab_type": "text"
      },
      "source": [
        "Podemos ver que em grande parte das variáveis existem valores nulos. Algumas com uma quantidade baixa deles e outras com uma quantidade muito alta. todas as variáveis referentes a teste possuem uma quantidade superior a 50% das entradas com valores faltantes. O restante possui uma quantidade moderada ou muito baixa desses valores. \n",
        "\n",
        "Por enquanto não faremos nada a respeito, pórem é de suma importância ja de início conhecer como estes valores faltantes se comportam no nosso *dataset*, pois logo precisaremos tratá-los."
      ]
    },
    {
      "cell_type": "markdown",
      "metadata": {
        "id": "afebefy3eghn",
        "colab_type": "text"
      },
      "source": [
        "## Panorama da COVID-19 no Mundo\n",
        "\n",
        "A partir daqui faremos algumas análises e visualizações para a situação da COVID-19 no mundo todo. \n",
        "\n",
        "Veremos os países que estão com os maiores números de mortes e casos, tiraremos alguns insights a partir dessas informações e análisaremos alguns casos específicos."
      ]
    },
    {
      "cell_type": "markdown",
      "metadata": {
        "id": "RcRj1dTGH_lA",
        "colab_type": "text"
      },
      "source": [
        "### Observando países com Maior Número de Casos e Maior Número de Mortos\n",
        "\n",
        "Fazendo agora uma análise mais apurada, verificaremos os cinco países com maior número de casos e com maior número de mortos até a data mais recente, 20/06/2020. Para tirarmos os próximos insights precisamos conhece-los."
      ]
    },
    {
      "cell_type": "code",
      "metadata": {
        "id": "FfbQAxkaIhc0",
        "colab_type": "code",
        "colab": {
          "base_uri": "https://localhost:8080/",
          "height": 298
        },
        "outputId": "6e09a451-a473-4380-ab12-b6cc539784f6"
      },
      "source": [
        "# verificando paises com maior numero de casos\n",
        "\n",
        "df.loc[df['date']=='2020-06-20'].sort_values(by='total_cases', ascending=False)[1:6]"
      ],
      "execution_count": null,
      "outputs": [
        {
          "output_type": "execute_result",
          "data": {
            "text/html": [
              "<div>\n",
              "<style scoped>\n",
              "    .dataframe tbody tr th:only-of-type {\n",
              "        vertical-align: middle;\n",
              "    }\n",
              "\n",
              "    .dataframe tbody tr th {\n",
              "        vertical-align: top;\n",
              "    }\n",
              "\n",
              "    .dataframe thead th {\n",
              "        text-align: right;\n",
              "    }\n",
              "</style>\n",
              "<table border=\"1\" class=\"dataframe\">\n",
              "  <thead>\n",
              "    <tr style=\"text-align: right;\">\n",
              "      <th></th>\n",
              "      <th>iso_code</th>\n",
              "      <th>continent</th>\n",
              "      <th>location</th>\n",
              "      <th>date</th>\n",
              "      <th>total_cases</th>\n",
              "      <th>new_cases</th>\n",
              "      <th>total_deaths</th>\n",
              "      <th>new_deaths</th>\n",
              "      <th>total_cases_per_million</th>\n",
              "      <th>new_cases_per_million</th>\n",
              "      <th>total_deaths_per_million</th>\n",
              "      <th>new_deaths_per_million</th>\n",
              "      <th>total_tests</th>\n",
              "      <th>new_tests</th>\n",
              "      <th>total_tests_per_thousand</th>\n",
              "      <th>new_tests_per_thousand</th>\n",
              "      <th>new_tests_smoothed</th>\n",
              "      <th>new_tests_smoothed_per_thousand</th>\n",
              "      <th>tests_units</th>\n",
              "      <th>stringency_index</th>\n",
              "      <th>population</th>\n",
              "      <th>population_density</th>\n",
              "      <th>median_age</th>\n",
              "      <th>aged_65_older</th>\n",
              "      <th>aged_70_older</th>\n",
              "      <th>gdp_per_capita</th>\n",
              "      <th>extreme_poverty</th>\n",
              "      <th>cvd_death_rate</th>\n",
              "      <th>diabetes_prevalence</th>\n",
              "      <th>female_smokers</th>\n",
              "      <th>male_smokers</th>\n",
              "      <th>handwashing_facilities</th>\n",
              "      <th>hospital_beds_per_thousand</th>\n",
              "      <th>life_expectancy</th>\n",
              "    </tr>\n",
              "  </thead>\n",
              "  <tbody>\n",
              "    <tr>\n",
              "      <th>23701</th>\n",
              "      <td>USA</td>\n",
              "      <td>North America</td>\n",
              "      <td>United States</td>\n",
              "      <td>2020-06-20</td>\n",
              "      <td>2220961.0</td>\n",
              "      <td>29909.0</td>\n",
              "      <td>119112.0</td>\n",
              "      <td>678.0</td>\n",
              "      <td>6709.798</td>\n",
              "      <td>90.359</td>\n",
              "      <td>359.852</td>\n",
              "      <td>2.048</td>\n",
              "      <td>NaN</td>\n",
              "      <td>NaN</td>\n",
              "      <td>NaN</td>\n",
              "      <td>NaN</td>\n",
              "      <td>NaN</td>\n",
              "      <td>NaN</td>\n",
              "      <td>NaN</td>\n",
              "      <td>NaN</td>\n",
              "      <td>331002647</td>\n",
              "      <td>35.608</td>\n",
              "      <td>38.3</td>\n",
              "      <td>15.413</td>\n",
              "      <td>9.732</td>\n",
              "      <td>54225.446</td>\n",
              "      <td>1.2</td>\n",
              "      <td>151.089</td>\n",
              "      <td>10.79</td>\n",
              "      <td>19.1</td>\n",
              "      <td>24.6</td>\n",
              "      <td>NaN</td>\n",
              "      <td>2.77</td>\n",
              "      <td>78.86</td>\n",
              "    </tr>\n",
              "    <tr>\n",
              "      <th>3404</th>\n",
              "      <td>BRA</td>\n",
              "      <td>South America</td>\n",
              "      <td>Brazil</td>\n",
              "      <td>2020-06-20</td>\n",
              "      <td>1032913.0</td>\n",
              "      <td>54771.0</td>\n",
              "      <td>48954.0</td>\n",
              "      <td>1206.0</td>\n",
              "      <td>4859.409</td>\n",
              "      <td>257.674</td>\n",
              "      <td>230.307</td>\n",
              "      <td>5.674</td>\n",
              "      <td>NaN</td>\n",
              "      <td>NaN</td>\n",
              "      <td>NaN</td>\n",
              "      <td>NaN</td>\n",
              "      <td>NaN</td>\n",
              "      <td>NaN</td>\n",
              "      <td>NaN</td>\n",
              "      <td>NaN</td>\n",
              "      <td>212559409</td>\n",
              "      <td>25.040</td>\n",
              "      <td>33.5</td>\n",
              "      <td>8.552</td>\n",
              "      <td>5.060</td>\n",
              "      <td>14103.452</td>\n",
              "      <td>3.4</td>\n",
              "      <td>177.961</td>\n",
              "      <td>8.11</td>\n",
              "      <td>10.1</td>\n",
              "      <td>17.9</td>\n",
              "      <td>NaN</td>\n",
              "      <td>2.20</td>\n",
              "      <td>75.88</td>\n",
              "    </tr>\n",
              "    <tr>\n",
              "      <th>18963</th>\n",
              "      <td>RUS</td>\n",
              "      <td>Europe</td>\n",
              "      <td>Russia</td>\n",
              "      <td>2020-06-20</td>\n",
              "      <td>569063.0</td>\n",
              "      <td>7972.0</td>\n",
              "      <td>7972.0</td>\n",
              "      <td>182.0</td>\n",
              "      <td>3899.442</td>\n",
              "      <td>54.627</td>\n",
              "      <td>54.627</td>\n",
              "      <td>1.247</td>\n",
              "      <td>NaN</td>\n",
              "      <td>NaN</td>\n",
              "      <td>NaN</td>\n",
              "      <td>NaN</td>\n",
              "      <td>NaN</td>\n",
              "      <td>NaN</td>\n",
              "      <td>NaN</td>\n",
              "      <td>NaN</td>\n",
              "      <td>145934460</td>\n",
              "      <td>8.823</td>\n",
              "      <td>39.6</td>\n",
              "      <td>14.178</td>\n",
              "      <td>9.393</td>\n",
              "      <td>24765.954</td>\n",
              "      <td>0.1</td>\n",
              "      <td>431.297</td>\n",
              "      <td>6.18</td>\n",
              "      <td>23.4</td>\n",
              "      <td>58.3</td>\n",
              "      <td>NaN</td>\n",
              "      <td>8.05</td>\n",
              "      <td>72.58</td>\n",
              "    </tr>\n",
              "    <tr>\n",
              "      <th>10598</th>\n",
              "      <td>IND</td>\n",
              "      <td>Asia</td>\n",
              "      <td>India</td>\n",
              "      <td>2020-06-20</td>\n",
              "      <td>395048.0</td>\n",
              "      <td>14516.0</td>\n",
              "      <td>12948.0</td>\n",
              "      <td>375.0</td>\n",
              "      <td>286.266</td>\n",
              "      <td>10.519</td>\n",
              "      <td>9.383</td>\n",
              "      <td>0.272</td>\n",
              "      <td>NaN</td>\n",
              "      <td>NaN</td>\n",
              "      <td>NaN</td>\n",
              "      <td>NaN</td>\n",
              "      <td>NaN</td>\n",
              "      <td>NaN</td>\n",
              "      <td>NaN</td>\n",
              "      <td>NaN</td>\n",
              "      <td>1380004385</td>\n",
              "      <td>450.419</td>\n",
              "      <td>28.2</td>\n",
              "      <td>5.989</td>\n",
              "      <td>3.414</td>\n",
              "      <td>6426.674</td>\n",
              "      <td>21.2</td>\n",
              "      <td>282.280</td>\n",
              "      <td>10.39</td>\n",
              "      <td>1.9</td>\n",
              "      <td>20.6</td>\n",
              "      <td>59.55</td>\n",
              "      <td>0.53</td>\n",
              "      <td>69.66</td>\n",
              "    </tr>\n",
              "    <tr>\n",
              "      <th>23528</th>\n",
              "      <td>GBR</td>\n",
              "      <td>Europe</td>\n",
              "      <td>United Kingdom</td>\n",
              "      <td>2020-06-20</td>\n",
              "      <td>301815.0</td>\n",
              "      <td>1346.0</td>\n",
              "      <td>42461.0</td>\n",
              "      <td>173.0</td>\n",
              "      <td>4445.909</td>\n",
              "      <td>19.827</td>\n",
              "      <td>625.475</td>\n",
              "      <td>2.548</td>\n",
              "      <td>NaN</td>\n",
              "      <td>NaN</td>\n",
              "      <td>NaN</td>\n",
              "      <td>NaN</td>\n",
              "      <td>NaN</td>\n",
              "      <td>NaN</td>\n",
              "      <td>NaN</td>\n",
              "      <td>NaN</td>\n",
              "      <td>67886004</td>\n",
              "      <td>272.898</td>\n",
              "      <td>40.8</td>\n",
              "      <td>18.517</td>\n",
              "      <td>12.527</td>\n",
              "      <td>39753.244</td>\n",
              "      <td>0.2</td>\n",
              "      <td>122.137</td>\n",
              "      <td>4.28</td>\n",
              "      <td>20.0</td>\n",
              "      <td>24.7</td>\n",
              "      <td>NaN</td>\n",
              "      <td>2.54</td>\n",
              "      <td>81.32</td>\n",
              "    </tr>\n",
              "  </tbody>\n",
              "</table>\n",
              "</div>"
            ],
            "text/plain": [
              "      iso_code      continent  ... hospital_beds_per_thousand life_expectancy\n",
              "23701      USA  North America  ...                       2.77           78.86\n",
              "3404       BRA  South America  ...                       2.20           75.88\n",
              "18963      RUS         Europe  ...                       8.05           72.58\n",
              "10598      IND           Asia  ...                       0.53           69.66\n",
              "23528      GBR         Europe  ...                       2.54           81.32\n",
              "\n",
              "[5 rows x 34 columns]"
            ]
          },
          "metadata": {
            "tags": []
          },
          "execution_count": 32
        }
      ]
    },
    {
      "cell_type": "markdown",
      "metadata": {
        "id": "8e8siT9sKfxy",
        "colab_type": "text"
      },
      "source": [
        "Podemos ver até o dia 20/06/2020 os países com maior número de casos confirmados da COVID-19 foram:\n",
        " * Estados Unidos com 2.220.961 casos\n",
        " * Brasil com 1.032.913 casos\n",
        " * Russia com 569.063 casos\n",
        " * India com 395.048\n",
        " * Reino Unido com 301.815 casos\n",
        "\n",
        "Podemos notar que temos uma grande diferença entre o primeiro e o segundo, com uma diferença de 1.200.000 casos. Também notamos uma diferença significativa entra o segundo e o terceiro com um número prócimo de 500.000 casos."
      ]
    },
    {
      "cell_type": "code",
      "metadata": {
        "id": "JnO1i8_kMh9-",
        "colab_type": "code",
        "colab": {
          "base_uri": "https://localhost:8080/",
          "height": 298
        },
        "outputId": "3ce97fe3-d9b6-480c-b91d-1a371e7779b5"
      },
      "source": [
        "# verificando paises com maior numero de mortes\n",
        "\n",
        "df.loc[df['date']=='2020-06-20'].sort_values(by='total_deaths', ascending=False)[1:6]"
      ],
      "execution_count": null,
      "outputs": [
        {
          "output_type": "execute_result",
          "data": {
            "text/html": [
              "<div>\n",
              "<style scoped>\n",
              "    .dataframe tbody tr th:only-of-type {\n",
              "        vertical-align: middle;\n",
              "    }\n",
              "\n",
              "    .dataframe tbody tr th {\n",
              "        vertical-align: top;\n",
              "    }\n",
              "\n",
              "    .dataframe thead th {\n",
              "        text-align: right;\n",
              "    }\n",
              "</style>\n",
              "<table border=\"1\" class=\"dataframe\">\n",
              "  <thead>\n",
              "    <tr style=\"text-align: right;\">\n",
              "      <th></th>\n",
              "      <th>iso_code</th>\n",
              "      <th>continent</th>\n",
              "      <th>location</th>\n",
              "      <th>date</th>\n",
              "      <th>total_cases</th>\n",
              "      <th>new_cases</th>\n",
              "      <th>total_deaths</th>\n",
              "      <th>new_deaths</th>\n",
              "      <th>total_cases_per_million</th>\n",
              "      <th>new_cases_per_million</th>\n",
              "      <th>total_deaths_per_million</th>\n",
              "      <th>new_deaths_per_million</th>\n",
              "      <th>total_tests</th>\n",
              "      <th>new_tests</th>\n",
              "      <th>total_tests_per_thousand</th>\n",
              "      <th>new_tests_per_thousand</th>\n",
              "      <th>new_tests_smoothed</th>\n",
              "      <th>new_tests_smoothed_per_thousand</th>\n",
              "      <th>tests_units</th>\n",
              "      <th>stringency_index</th>\n",
              "      <th>population</th>\n",
              "      <th>population_density</th>\n",
              "      <th>median_age</th>\n",
              "      <th>aged_65_older</th>\n",
              "      <th>aged_70_older</th>\n",
              "      <th>gdp_per_capita</th>\n",
              "      <th>extreme_poverty</th>\n",
              "      <th>cvd_death_rate</th>\n",
              "      <th>diabetes_prevalence</th>\n",
              "      <th>female_smokers</th>\n",
              "      <th>male_smokers</th>\n",
              "      <th>handwashing_facilities</th>\n",
              "      <th>hospital_beds_per_thousand</th>\n",
              "      <th>life_expectancy</th>\n",
              "    </tr>\n",
              "  </thead>\n",
              "  <tbody>\n",
              "    <tr>\n",
              "      <th>23701</th>\n",
              "      <td>USA</td>\n",
              "      <td>North America</td>\n",
              "      <td>United States</td>\n",
              "      <td>2020-06-20</td>\n",
              "      <td>2220961.0</td>\n",
              "      <td>29909.0</td>\n",
              "      <td>119112.0</td>\n",
              "      <td>678.0</td>\n",
              "      <td>6709.798</td>\n",
              "      <td>90.359</td>\n",
              "      <td>359.852</td>\n",
              "      <td>2.048</td>\n",
              "      <td>NaN</td>\n",
              "      <td>NaN</td>\n",
              "      <td>NaN</td>\n",
              "      <td>NaN</td>\n",
              "      <td>NaN</td>\n",
              "      <td>NaN</td>\n",
              "      <td>NaN</td>\n",
              "      <td>NaN</td>\n",
              "      <td>331002647</td>\n",
              "      <td>35.608</td>\n",
              "      <td>38.3</td>\n",
              "      <td>15.413</td>\n",
              "      <td>9.732</td>\n",
              "      <td>54225.446</td>\n",
              "      <td>1.2</td>\n",
              "      <td>151.089</td>\n",
              "      <td>10.79</td>\n",
              "      <td>19.1</td>\n",
              "      <td>24.6</td>\n",
              "      <td>NaN</td>\n",
              "      <td>2.77</td>\n",
              "      <td>78.86</td>\n",
              "    </tr>\n",
              "    <tr>\n",
              "      <th>3404</th>\n",
              "      <td>BRA</td>\n",
              "      <td>South America</td>\n",
              "      <td>Brazil</td>\n",
              "      <td>2020-06-20</td>\n",
              "      <td>1032913.0</td>\n",
              "      <td>54771.0</td>\n",
              "      <td>48954.0</td>\n",
              "      <td>1206.0</td>\n",
              "      <td>4859.409</td>\n",
              "      <td>257.674</td>\n",
              "      <td>230.307</td>\n",
              "      <td>5.674</td>\n",
              "      <td>NaN</td>\n",
              "      <td>NaN</td>\n",
              "      <td>NaN</td>\n",
              "      <td>NaN</td>\n",
              "      <td>NaN</td>\n",
              "      <td>NaN</td>\n",
              "      <td>NaN</td>\n",
              "      <td>NaN</td>\n",
              "      <td>212559409</td>\n",
              "      <td>25.040</td>\n",
              "      <td>33.5</td>\n",
              "      <td>8.552</td>\n",
              "      <td>5.060</td>\n",
              "      <td>14103.452</td>\n",
              "      <td>3.4</td>\n",
              "      <td>177.961</td>\n",
              "      <td>8.11</td>\n",
              "      <td>10.1</td>\n",
              "      <td>17.9</td>\n",
              "      <td>NaN</td>\n",
              "      <td>2.20</td>\n",
              "      <td>75.88</td>\n",
              "    </tr>\n",
              "    <tr>\n",
              "      <th>23528</th>\n",
              "      <td>GBR</td>\n",
              "      <td>Europe</td>\n",
              "      <td>United Kingdom</td>\n",
              "      <td>2020-06-20</td>\n",
              "      <td>301815.0</td>\n",
              "      <td>1346.0</td>\n",
              "      <td>42461.0</td>\n",
              "      <td>173.0</td>\n",
              "      <td>4445.909</td>\n",
              "      <td>19.827</td>\n",
              "      <td>625.475</td>\n",
              "      <td>2.548</td>\n",
              "      <td>NaN</td>\n",
              "      <td>NaN</td>\n",
              "      <td>NaN</td>\n",
              "      <td>NaN</td>\n",
              "      <td>NaN</td>\n",
              "      <td>NaN</td>\n",
              "      <td>NaN</td>\n",
              "      <td>NaN</td>\n",
              "      <td>67886004</td>\n",
              "      <td>272.898</td>\n",
              "      <td>40.8</td>\n",
              "      <td>18.517</td>\n",
              "      <td>12.527</td>\n",
              "      <td>39753.244</td>\n",
              "      <td>0.2</td>\n",
              "      <td>122.137</td>\n",
              "      <td>4.28</td>\n",
              "      <td>20.0</td>\n",
              "      <td>24.7</td>\n",
              "      <td>NaN</td>\n",
              "      <td>2.54</td>\n",
              "      <td>81.32</td>\n",
              "    </tr>\n",
              "    <tr>\n",
              "      <th>11718</th>\n",
              "      <td>ITA</td>\n",
              "      <td>Europe</td>\n",
              "      <td>Italy</td>\n",
              "      <td>2020-06-20</td>\n",
              "      <td>238011.0</td>\n",
              "      <td>-148.0</td>\n",
              "      <td>34561.0</td>\n",
              "      <td>47.0</td>\n",
              "      <td>3936.550</td>\n",
              "      <td>-2.448</td>\n",
              "      <td>571.617</td>\n",
              "      <td>0.777</td>\n",
              "      <td>NaN</td>\n",
              "      <td>NaN</td>\n",
              "      <td>NaN</td>\n",
              "      <td>NaN</td>\n",
              "      <td>NaN</td>\n",
              "      <td>NaN</td>\n",
              "      <td>NaN</td>\n",
              "      <td>NaN</td>\n",
              "      <td>60461828</td>\n",
              "      <td>205.859</td>\n",
              "      <td>47.9</td>\n",
              "      <td>23.021</td>\n",
              "      <td>16.240</td>\n",
              "      <td>35220.084</td>\n",
              "      <td>2.0</td>\n",
              "      <td>113.151</td>\n",
              "      <td>4.78</td>\n",
              "      <td>19.8</td>\n",
              "      <td>27.8</td>\n",
              "      <td>NaN</td>\n",
              "      <td>3.18</td>\n",
              "      <td>83.51</td>\n",
              "    </tr>\n",
              "    <tr>\n",
              "      <th>8185</th>\n",
              "      <td>FRA</td>\n",
              "      <td>Europe</td>\n",
              "      <td>France</td>\n",
              "      <td>2020-06-20</td>\n",
              "      <td>159452.0</td>\n",
              "      <td>811.0</td>\n",
              "      <td>29617.0</td>\n",
              "      <td>14.0</td>\n",
              "      <td>2442.829</td>\n",
              "      <td>12.425</td>\n",
              "      <td>453.737</td>\n",
              "      <td>0.214</td>\n",
              "      <td>NaN</td>\n",
              "      <td>NaN</td>\n",
              "      <td>NaN</td>\n",
              "      <td>NaN</td>\n",
              "      <td>NaN</td>\n",
              "      <td>NaN</td>\n",
              "      <td>NaN</td>\n",
              "      <td>NaN</td>\n",
              "      <td>65273512</td>\n",
              "      <td>122.578</td>\n",
              "      <td>42.0</td>\n",
              "      <td>19.718</td>\n",
              "      <td>13.079</td>\n",
              "      <td>38605.671</td>\n",
              "      <td>NaN</td>\n",
              "      <td>86.060</td>\n",
              "      <td>4.77</td>\n",
              "      <td>30.1</td>\n",
              "      <td>35.6</td>\n",
              "      <td>NaN</td>\n",
              "      <td>5.98</td>\n",
              "      <td>82.66</td>\n",
              "    </tr>\n",
              "  </tbody>\n",
              "</table>\n",
              "</div>"
            ],
            "text/plain": [
              "      iso_code      continent  ... hospital_beds_per_thousand life_expectancy\n",
              "23701      USA  North America  ...                       2.77           78.86\n",
              "3404       BRA  South America  ...                       2.20           75.88\n",
              "23528      GBR         Europe  ...                       2.54           81.32\n",
              "11718      ITA         Europe  ...                       3.18           83.51\n",
              "8185       FRA         Europe  ...                       5.98           82.66\n",
              "\n",
              "[5 rows x 34 columns]"
            ]
          },
          "metadata": {
            "tags": []
          },
          "execution_count": 33
        }
      ]
    },
    {
      "cell_type": "markdown",
      "metadata": {
        "id": "Qv2pJm2uMp_d",
        "colab_type": "text"
      },
      "source": [
        "Podemos ver que até o dia 20/06/2020 os países com maior quantidade de mortes atribuidas à COVID-19 foram:\n",
        "\n",
        " * Estados Unidos com 119.112 mortes\n",
        " * Brasil com 48.954 mortes\n",
        " * Reino Unido com 42.461 mortes\n",
        " * Itália com 34.561 mortes\n",
        " * França com 29.617 mortes\n",
        "\n",
        "Vemos que os dois países com maior número de casos confirmados também são os que possuem os maiores números de mortes. Outro país que aparece nas duas tabelas é o Reino Unido. \n",
        "\n",
        "Além disso notamos uma difereça significativa entre o primeiro e o segundo, com uma diferença de aproximadamente 60.000 mortes.\n",
        "\n",
        "Dois casos no mínimo curiosos seriam o da India e da Rússia. Observe que a India aparece como o quarto país com maior número de casos confirmados, porém não aparece na lista de maiores números de mortes. O mesmo ocorre com a Rússia. Logo analisaremos estes casos mais de perto."
      ]
    },
    {
      "cell_type": "markdown",
      "metadata": {
        "id": "k3dOtM__Xo9_",
        "colab_type": "text"
      },
      "source": [
        "### Gráfico de barras para Países com Maior Número de Casos e Maior Número de Mortos\n",
        "\n",
        "Nós conseguimos interpretar gráficos muito melhor que tabelas. Portanto, a visualização de gráfico a cerca dos resultados apresentados acima se torna essencial principalmente para conseguirmos ter uma noção da magnitude destes números apresentados."
      ]
    },
    {
      "cell_type": "code",
      "metadata": {
        "id": "dZmrj4yeZH1M",
        "colab_type": "code",
        "colab": {
          "base_uri": "https://localhost:8080/",
          "height": 725
        },
        "outputId": "6a1fa8b4-5057-4a57-c696-cbc9d42a5928"
      },
      "source": [
        "# gráfico de barras para os cinco paises com maior numero de casos e maior numero de mortes\n",
        "\n",
        "df_casos = df.loc[df['date']=='2020-06-20', ['location', 'total_cases']].sort_values(by='total_cases', ascending=False)[1:6].copy()\n",
        "df_mortes = df.loc[df['date']=='2020-06-20', ['location', 'total_deaths']].sort_values(by='total_deaths', ascending=False)[1:6].copy()\n",
        "\n",
        "sns.set()\n",
        "fig, (ax1, ax2) = plt.subplots(1, 2, figsize=(16,10))\n",
        "\n",
        "ax1.bar('location', 'total_cases', data=df_casos)\n",
        "ax1.set_ylabel('Milhões de casos confirmados da COVID-19')\n",
        "ax1.set_title('Gráfico de barras para os países com maior número de casos registradas pela COVID-19')\n",
        "ax1.set_yticklabels(['0', '500000', '1000000', '1500000', '2000000'])\n",
        "ax1.grid(False)\n",
        "\n",
        "for i in range(5):\n",
        "  ax1.text(i,df_casos.iloc[i].total_cases, int(df_casos.iloc[i].total_cases),\n",
        "           ha='center', va='bottom', color='k')\n",
        "\n",
        "\n",
        "\n",
        "ax2.bar('location', 'total_deaths', data=df_mortes)\n",
        "ax2.set_ylabel('Número de mortes pela COVID-19')\n",
        "ax2.set_title('Gráfico de barras para os países com maior número de mortes pela COVID-19')\n",
        "ax2.grid(False)\n",
        "\n",
        "for i in range(5):\n",
        "  ax2.text(i,df_mortes.iloc[i].total_deaths, int(df_mortes.iloc[i].total_deaths),\n",
        "           ha='center', va='bottom', color='k')\n",
        "\n",
        "\n",
        "plt.tight_layout()"
      ],
      "execution_count": 133,
      "outputs": [
        {
          "output_type": "display_data",
          "data": {
            "image/png": "[encoded data removed]",
            "text/plain": [
              "<Figure size 1152x720 with 2 Axes>"
            ]
          },
          "metadata": {
            "tags": []
          }
        }
      ]
    },
    {
      "cell_type": "markdown",
      "metadata": {
        "id": "sjdY_iYBfGzP",
        "colab_type": "text"
      },
      "source": [
        "Por meio do gráfico da esquerda podemos observar com maior clareza a diferença entre os 5 países com maior número de casos confirmados da COVID-19. Vemos que os Estados Unidos possui uma diferença significativa dos demais.\n",
        "\n",
        "No gráfico à direita, mais uma vez os Estados Unidos possui uma diferença significativa dos demais, sendo seu número de mortes maior que o dobro do segundo com mais mortes, o Brasil."
      ]
    },
    {
      "cell_type": "markdown",
      "metadata": {
        "id": "IYJYO1P4E0PX",
        "colab_type": "text"
      },
      "source": [
        "### Gráfico da evolução da COVID-19 no Mundo\n",
        "\n",
        "Todos nós ja ouvimos falar em algum lugar da curva de contágio de doenças infecciosas. Essa curva começa pouco expressiva, porém com o passar do tempo ela cresce cada vez mais rápida até atingir um topo e começar sua queda. \n",
        "\n",
        "Em termos mais técnicos essa curva segue uma função exponencial e sua disposição no gráfico se assemelha à disposição de uma distribuição normal.\n",
        "\n",
        "Observaremos aqui o gráfico da evolução da COVID-19 desde o seu início. Como, em geral, no mundo essa doença ainda não foi controlada provavelmente não visualizaremos a curva completa, apenas seu início lento e uma rapida subida.\n",
        "\n",
        "Este tipo de gráfico serve como base para as previsões em relação ao tempo para se controlar a doença, e outras análises mais profundas."
      ]
    },
    {
      "cell_type": "code",
      "metadata": {
        "id": "pOAjpgyVG3p4",
        "colab_type": "code",
        "colab": {
          "base_uri": "https://localhost:8080/",
          "height": 581
        },
        "outputId": "46f77ec7-40e7-41e1-b471-06bba6798623"
      },
      "source": [
        "# gráfico de linhas da evolução da covid-19\n",
        "\n",
        "df_evolucao = df.loc[df['location']=='World',['date', 'total_cases']].set_index('date').copy()\n",
        "\n",
        "\n",
        "\n",
        "sns.set()\n",
        "fig, ax = plt.subplots(figsize=(12, 8))\n",
        "\n",
        "df_evolucao.plot(ax=ax, marker ='o', markevery=[-1], markersize=10,)\n",
        "ax.set_ylabel(\"Milhares de infecctados no mundo\")\n",
        "ax.set_xlabel(\"Data\")\n",
        "ax.set_title(\"Evolução do número de casos da COVID-19 desde o primeiro notificado\")\n",
        "ax.set_yticklabels(['0', '0', '2000000', '4000000', '6000000', '8000000'])\n",
        "plt.legend()\n",
        "ax.text(169, df_evolucao.total_cases[-1], int(df_evolucao.total_cases[-1]), ha='right' )\n",
        "ax.legend(['Total de Casos'])\n",
        "\n",
        "plt.tight_layout()\n"
      ],
      "execution_count": 201,
      "outputs": [
        {
          "output_type": "display_data",
          "data": {
            "image/png": "[encoded data removed]",
            "text/plain": [
              "<Figure size 864x576 with 1 Axes>"
            ]
          },
          "metadata": {
            "tags": []
          }
        }
      ]
    },
    {
      "cell_type": "markdown",
      "metadata": {
        "id": "iU-FWgDMLgu7",
        "colab_type": "text"
      },
      "source": [
        "Como proposto, vemos um início com pouca mudança no número de casos. O início da rápida subida no neste número se deu **no mundo** por volta do dia 15/03/2020. A partir deste dia não observamos nenhuma queda na curva e nem indícios de achatamento, ou seja, indícios de que se chegou no topo da curva e vemos que no último dia registrado no *dataset*, 20/06/2020, o número de casos confirmados no mundo era de mais de 8.500.000 casos."
      ]
    },
    {
      "cell_type": "markdown",
      "metadata": {
        "id": "f6tQe6wyfKjh",
        "colab_type": "text"
      },
      "source": [
        "### Analisando Índia e Russia\n",
        "\n",
        "Como anunciado acima, iremos agora analisar o caso da India e da Russia. Observe que estes dois países aparecem no ranking dos 5 países com maior número de casos (Rússia em terceiro e India em quarto), porém nenhum dos dois aparece no ranking 5 países com maior número de mortes. \n",
        "\n",
        "O primeiro procedimento a se fazer é visualizar o número de mortes nesses países para verificar se este número é relaviamente menor que a a maioria dos países.\n",
        "\n",
        "Lembrando que os dados plotado nos **gráficos de barra** acima são até a data mais recente do *dataset*, 20/06/2020. Portando analisaremos aqui as mortes para Rússia e India até este dia."
      ]
    },
    {
      "cell_type": "code",
      "metadata": {
        "id": "Ge0Cl2euvg0O",
        "colab_type": "code",
        "colab": {
          "base_uri": "https://localhost:8080/",
          "height": 113
        },
        "outputId": "b165d2fc-d9e0-48e7-f51f-f85b5fec9a01"
      },
      "source": [
        "# verificando numero de mortes na russia\n",
        "\n",
        "df.loc[df['date'] == '2020-06-20'].loc[df['location']=='Russia']"
      ],
      "execution_count": null,
      "outputs": [
        {
          "output_type": "execute_result",
          "data": {
            "text/html": [
              "<div>\n",
              "<style scoped>\n",
              "    .dataframe tbody tr th:only-of-type {\n",
              "        vertical-align: middle;\n",
              "    }\n",
              "\n",
              "    .dataframe tbody tr th {\n",
              "        vertical-align: top;\n",
              "    }\n",
              "\n",
              "    .dataframe thead th {\n",
              "        text-align: right;\n",
              "    }\n",
              "</style>\n",
              "<table border=\"1\" class=\"dataframe\">\n",
              "  <thead>\n",
              "    <tr style=\"text-align: right;\">\n",
              "      <th></th>\n",
              "      <th>iso_code</th>\n",
              "      <th>continent</th>\n",
              "      <th>location</th>\n",
              "      <th>date</th>\n",
              "      <th>total_cases</th>\n",
              "      <th>new_cases</th>\n",
              "      <th>total_deaths</th>\n",
              "      <th>new_deaths</th>\n",
              "      <th>total_cases_per_million</th>\n",
              "      <th>new_cases_per_million</th>\n",
              "      <th>total_deaths_per_million</th>\n",
              "      <th>new_deaths_per_million</th>\n",
              "      <th>total_tests</th>\n",
              "      <th>new_tests</th>\n",
              "      <th>total_tests_per_thousand</th>\n",
              "      <th>new_tests_per_thousand</th>\n",
              "      <th>new_tests_smoothed</th>\n",
              "      <th>new_tests_smoothed_per_thousand</th>\n",
              "      <th>tests_units</th>\n",
              "      <th>stringency_index</th>\n",
              "      <th>population</th>\n",
              "      <th>population_density</th>\n",
              "      <th>median_age</th>\n",
              "      <th>aged_65_older</th>\n",
              "      <th>aged_70_older</th>\n",
              "      <th>gdp_per_capita</th>\n",
              "      <th>extreme_poverty</th>\n",
              "      <th>cvd_death_rate</th>\n",
              "      <th>diabetes_prevalence</th>\n",
              "      <th>female_smokers</th>\n",
              "      <th>male_smokers</th>\n",
              "      <th>handwashing_facilities</th>\n",
              "      <th>hospital_beds_per_thousand</th>\n",
              "      <th>life_expectancy</th>\n",
              "    </tr>\n",
              "  </thead>\n",
              "  <tbody>\n",
              "    <tr>\n",
              "      <th>18963</th>\n",
              "      <td>RUS</td>\n",
              "      <td>Europe</td>\n",
              "      <td>Russia</td>\n",
              "      <td>2020-06-20</td>\n",
              "      <td>569063.0</td>\n",
              "      <td>7972.0</td>\n",
              "      <td>7972.0</td>\n",
              "      <td>182.0</td>\n",
              "      <td>3899.442</td>\n",
              "      <td>54.627</td>\n",
              "      <td>54.627</td>\n",
              "      <td>1.247</td>\n",
              "      <td>NaN</td>\n",
              "      <td>NaN</td>\n",
              "      <td>NaN</td>\n",
              "      <td>NaN</td>\n",
              "      <td>NaN</td>\n",
              "      <td>NaN</td>\n",
              "      <td>NaN</td>\n",
              "      <td>NaN</td>\n",
              "      <td>145934460</td>\n",
              "      <td>8.823</td>\n",
              "      <td>39.6</td>\n",
              "      <td>14.178</td>\n",
              "      <td>9.393</td>\n",
              "      <td>24765.954</td>\n",
              "      <td>0.1</td>\n",
              "      <td>431.297</td>\n",
              "      <td>6.18</td>\n",
              "      <td>23.4</td>\n",
              "      <td>58.3</td>\n",
              "      <td>NaN</td>\n",
              "      <td>8.05</td>\n",
              "      <td>72.58</td>\n",
              "    </tr>\n",
              "  </tbody>\n",
              "</table>\n",
              "</div>"
            ],
            "text/plain": [
              "      iso_code continent  ... hospital_beds_per_thousand life_expectancy\n",
              "18963      RUS    Europe  ...                       8.05           72.58\n",
              "\n",
              "[1 rows x 34 columns]"
            ]
          },
          "metadata": {
            "tags": []
          },
          "execution_count": 20
        }
      ]
    },
    {
      "cell_type": "code",
      "metadata": {
        "id": "NHu-WGN306vl",
        "colab_type": "code",
        "colab": {
          "base_uri": "https://localhost:8080/",
          "height": 113
        },
        "outputId": "0abc280a-ba80-41ed-91db-a8e0e5f23a13"
      },
      "source": [
        "# verificando numero de mortes na india\n",
        "\n",
        "df.loc[df['date'] == '2020-06-20'].loc[df['location']=='India']"
      ],
      "execution_count": null,
      "outputs": [
        {
          "output_type": "execute_result",
          "data": {
            "text/html": [
              "<div>\n",
              "<style scoped>\n",
              "    .dataframe tbody tr th:only-of-type {\n",
              "        vertical-align: middle;\n",
              "    }\n",
              "\n",
              "    .dataframe tbody tr th {\n",
              "        vertical-align: top;\n",
              "    }\n",
              "\n",
              "    .dataframe thead th {\n",
              "        text-align: right;\n",
              "    }\n",
              "</style>\n",
              "<table border=\"1\" class=\"dataframe\">\n",
              "  <thead>\n",
              "    <tr style=\"text-align: right;\">\n",
              "      <th></th>\n",
              "      <th>iso_code</th>\n",
              "      <th>continent</th>\n",
              "      <th>location</th>\n",
              "      <th>date</th>\n",
              "      <th>total_cases</th>\n",
              "      <th>new_cases</th>\n",
              "      <th>total_deaths</th>\n",
              "      <th>new_deaths</th>\n",
              "      <th>total_cases_per_million</th>\n",
              "      <th>new_cases_per_million</th>\n",
              "      <th>total_deaths_per_million</th>\n",
              "      <th>new_deaths_per_million</th>\n",
              "      <th>total_tests</th>\n",
              "      <th>new_tests</th>\n",
              "      <th>total_tests_per_thousand</th>\n",
              "      <th>new_tests_per_thousand</th>\n",
              "      <th>new_tests_smoothed</th>\n",
              "      <th>new_tests_smoothed_per_thousand</th>\n",
              "      <th>tests_units</th>\n",
              "      <th>stringency_index</th>\n",
              "      <th>population</th>\n",
              "      <th>population_density</th>\n",
              "      <th>median_age</th>\n",
              "      <th>aged_65_older</th>\n",
              "      <th>aged_70_older</th>\n",
              "      <th>gdp_per_capita</th>\n",
              "      <th>extreme_poverty</th>\n",
              "      <th>cvd_death_rate</th>\n",
              "      <th>diabetes_prevalence</th>\n",
              "      <th>female_smokers</th>\n",
              "      <th>male_smokers</th>\n",
              "      <th>handwashing_facilities</th>\n",
              "      <th>hospital_beds_per_thousand</th>\n",
              "      <th>life_expectancy</th>\n",
              "    </tr>\n",
              "  </thead>\n",
              "  <tbody>\n",
              "    <tr>\n",
              "      <th>10598</th>\n",
              "      <td>IND</td>\n",
              "      <td>Asia</td>\n",
              "      <td>India</td>\n",
              "      <td>2020-06-20</td>\n",
              "      <td>395048.0</td>\n",
              "      <td>14516.0</td>\n",
              "      <td>12948.0</td>\n",
              "      <td>375.0</td>\n",
              "      <td>286.266</td>\n",
              "      <td>10.519</td>\n",
              "      <td>9.383</td>\n",
              "      <td>0.272</td>\n",
              "      <td>NaN</td>\n",
              "      <td>NaN</td>\n",
              "      <td>NaN</td>\n",
              "      <td>NaN</td>\n",
              "      <td>NaN</td>\n",
              "      <td>NaN</td>\n",
              "      <td>NaN</td>\n",
              "      <td>NaN</td>\n",
              "      <td>1380004385</td>\n",
              "      <td>450.419</td>\n",
              "      <td>28.2</td>\n",
              "      <td>5.989</td>\n",
              "      <td>3.414</td>\n",
              "      <td>6426.674</td>\n",
              "      <td>21.2</td>\n",
              "      <td>282.28</td>\n",
              "      <td>10.39</td>\n",
              "      <td>1.9</td>\n",
              "      <td>20.6</td>\n",
              "      <td>59.55</td>\n",
              "      <td>0.53</td>\n",
              "      <td>69.66</td>\n",
              "    </tr>\n",
              "  </tbody>\n",
              "</table>\n",
              "</div>"
            ],
            "text/plain": [
              "      iso_code continent  ... hospital_beds_per_thousand life_expectancy\n",
              "10598      IND      Asia  ...                       0.53           69.66\n",
              "\n",
              "[1 rows x 34 columns]"
            ]
          },
          "metadata": {
            "tags": []
          },
          "execution_count": 21
        }
      ]
    },
    {
      "cell_type": "markdown",
      "metadata": {
        "id": "4w2UA5PS1KJP",
        "colab_type": "text"
      },
      "source": [
        "Como esperado, Índia e Rússia possuem uma quantidade menor de mortes em relação aos países que mais possuem. \n",
        "\n",
        "A partir disso podemos levantar algumas hipóteses:\n",
        "\n",
        "  * Uma possível explicação para isto é o fato desses dois países possuirem grande quantidade de jovens em sua população. Esta parte da população em sua maioria não faz parte do grupo de risco, e por isso a chance de virem a óbito devido à COVID-19 é menor.\n",
        "\n",
        "  * Outra hipótese é que o bloqueio social e os testes em massa nestes países foram eficientes e funcionaram como o esperado, com a colaboração da população e com a presença constante de órgãos do governo.\n",
        "\n",
        "  * Uma terceira hipótese que pode se pensar é a não noticação de mortes nesses dois países, seja por parte do governo aos órgãos internacionais, ou pela população às instâncias do governo.\n",
        "\n",
        "\n",
        "Note que não expus minha opinião sobre o assunto, apenas levantei algumas das hipóteses possíveis para a explicação do fato. Para confirmação de qual, ou quais estão corretas é necessário uma investigação mais profunda que vai além dos dados deste *dataset*."
      ]
    },
    {
      "cell_type": "markdown",
      "metadata": {
        "id": "SViA5VZ7DYLA",
        "colab_type": "text"
      },
      "source": [
        "## Análise Exploratória para o Brasil\n",
        "\n",
        "Iniciaremos agora uma análise dos dados específica para o Brasil. Aqui observaremos quanto tivemos a primeira morte registrada pela COVID-19 em relação a data de notificação do primeiro caso da COVID-19 registrado aqui, visualizaremos gráficos para mortes totais e casos totais e outras análises mais específicas. \n",
        "\n",
        "Os dados utilizados aqui serão os presentes no *dataset* que usamos até agora, porém o gorverno brasileiro possui um site com mapas e gráficos interativos e com atualização diaria. Eles tambem fornecem vários conjunto de dados com extensão `csv` para quem tiver interesse em usa-los. O site se chama [Coronavírus Brasil](https://covid.saude.gov.br/)."
      ]
    },
    {
      "cell_type": "markdown",
      "metadata": {
        "id": "t36Bz5ga8vFE",
        "colab_type": "text"
      },
      "source": [
        "### Criando cópia do *dataset*\n",
        "\n",
        "Vamos inicialmente criar uma cópia do nosso *dataset* principal (df) somente com as informações referentes ao Brasil e ver as 5 primeiras entradas\n",
        "\n",
        "Para isso utilizaremos a função `copy` para copiar e `head` para as entradas."
      ]
    },
    {
      "cell_type": "code",
      "metadata": {
        "id": "L_YFhPJQ8oa9",
        "colab_type": "code",
        "colab": {
          "base_uri": "https://localhost:8080/",
          "height": 298
        },
        "outputId": "11d50402-0224-43a8-8b9f-5511ddfc8c1a"
      },
      "source": [
        "# copiando dados para um novo dataset\n",
        "\n",
        "\n",
        "df_brasil = df.loc[df['location']=='Brazil'].copy()\n",
        "\n",
        "df_brasil.head()"
      ],
      "execution_count": null,
      "outputs": [
        {
          "output_type": "execute_result",
          "data": {
            "text/html": [
              "<div>\n",
              "<style scoped>\n",
              "    .dataframe tbody tr th:only-of-type {\n",
              "        vertical-align: middle;\n",
              "    }\n",
              "\n",
              "    .dataframe tbody tr th {\n",
              "        vertical-align: top;\n",
              "    }\n",
              "\n",
              "    .dataframe thead th {\n",
              "        text-align: right;\n",
              "    }\n",
              "</style>\n",
              "<table border=\"1\" class=\"dataframe\">\n",
              "  <thead>\n",
              "    <tr style=\"text-align: right;\">\n",
              "      <th></th>\n",
              "      <th>iso_code</th>\n",
              "      <th>continent</th>\n",
              "      <th>location</th>\n",
              "      <th>date</th>\n",
              "      <th>total_cases</th>\n",
              "      <th>new_cases</th>\n",
              "      <th>total_deaths</th>\n",
              "      <th>new_deaths</th>\n",
              "      <th>total_cases_per_million</th>\n",
              "      <th>new_cases_per_million</th>\n",
              "      <th>total_deaths_per_million</th>\n",
              "      <th>new_deaths_per_million</th>\n",
              "      <th>total_tests</th>\n",
              "      <th>new_tests</th>\n",
              "      <th>total_tests_per_thousand</th>\n",
              "      <th>new_tests_per_thousand</th>\n",
              "      <th>new_tests_smoothed</th>\n",
              "      <th>new_tests_smoothed_per_thousand</th>\n",
              "      <th>tests_units</th>\n",
              "      <th>stringency_index</th>\n",
              "      <th>population</th>\n",
              "      <th>population_density</th>\n",
              "      <th>median_age</th>\n",
              "      <th>aged_65_older</th>\n",
              "      <th>aged_70_older</th>\n",
              "      <th>gdp_per_capita</th>\n",
              "      <th>extreme_poverty</th>\n",
              "      <th>cvd_death_rate</th>\n",
              "      <th>diabetes_prevalence</th>\n",
              "      <th>female_smokers</th>\n",
              "      <th>male_smokers</th>\n",
              "      <th>handwashing_facilities</th>\n",
              "      <th>hospital_beds_per_thousand</th>\n",
              "      <th>life_expectancy</th>\n",
              "    </tr>\n",
              "  </thead>\n",
              "  <tbody>\n",
              "    <tr>\n",
              "      <th>3232</th>\n",
              "      <td>BRA</td>\n",
              "      <td>South America</td>\n",
              "      <td>Brazil</td>\n",
              "      <td>2019-12-31</td>\n",
              "      <td>0.0</td>\n",
              "      <td>0.0</td>\n",
              "      <td>0.0</td>\n",
              "      <td>0.0</td>\n",
              "      <td>0.0</td>\n",
              "      <td>0.0</td>\n",
              "      <td>0.0</td>\n",
              "      <td>0.0</td>\n",
              "      <td>NaN</td>\n",
              "      <td>NaN</td>\n",
              "      <td>NaN</td>\n",
              "      <td>NaN</td>\n",
              "      <td>NaN</td>\n",
              "      <td>NaN</td>\n",
              "      <td>NaN</td>\n",
              "      <td>NaN</td>\n",
              "      <td>212559409</td>\n",
              "      <td>25.04</td>\n",
              "      <td>33.5</td>\n",
              "      <td>8.552</td>\n",
              "      <td>5.06</td>\n",
              "      <td>14103.452</td>\n",
              "      <td>3.4</td>\n",
              "      <td>177.961</td>\n",
              "      <td>8.11</td>\n",
              "      <td>10.1</td>\n",
              "      <td>17.9</td>\n",
              "      <td>NaN</td>\n",
              "      <td>2.2</td>\n",
              "      <td>75.88</td>\n",
              "    </tr>\n",
              "    <tr>\n",
              "      <th>3233</th>\n",
              "      <td>BRA</td>\n",
              "      <td>South America</td>\n",
              "      <td>Brazil</td>\n",
              "      <td>2020-01-01</td>\n",
              "      <td>0.0</td>\n",
              "      <td>0.0</td>\n",
              "      <td>0.0</td>\n",
              "      <td>0.0</td>\n",
              "      <td>0.0</td>\n",
              "      <td>0.0</td>\n",
              "      <td>0.0</td>\n",
              "      <td>0.0</td>\n",
              "      <td>NaN</td>\n",
              "      <td>NaN</td>\n",
              "      <td>NaN</td>\n",
              "      <td>NaN</td>\n",
              "      <td>NaN</td>\n",
              "      <td>NaN</td>\n",
              "      <td>NaN</td>\n",
              "      <td>0.0</td>\n",
              "      <td>212559409</td>\n",
              "      <td>25.04</td>\n",
              "      <td>33.5</td>\n",
              "      <td>8.552</td>\n",
              "      <td>5.06</td>\n",
              "      <td>14103.452</td>\n",
              "      <td>3.4</td>\n",
              "      <td>177.961</td>\n",
              "      <td>8.11</td>\n",
              "      <td>10.1</td>\n",
              "      <td>17.9</td>\n",
              "      <td>NaN</td>\n",
              "      <td>2.2</td>\n",
              "      <td>75.88</td>\n",
              "    </tr>\n",
              "    <tr>\n",
              "      <th>3234</th>\n",
              "      <td>BRA</td>\n",
              "      <td>South America</td>\n",
              "      <td>Brazil</td>\n",
              "      <td>2020-01-02</td>\n",
              "      <td>0.0</td>\n",
              "      <td>0.0</td>\n",
              "      <td>0.0</td>\n",
              "      <td>0.0</td>\n",
              "      <td>0.0</td>\n",
              "      <td>0.0</td>\n",
              "      <td>0.0</td>\n",
              "      <td>0.0</td>\n",
              "      <td>NaN</td>\n",
              "      <td>NaN</td>\n",
              "      <td>NaN</td>\n",
              "      <td>NaN</td>\n",
              "      <td>NaN</td>\n",
              "      <td>NaN</td>\n",
              "      <td>NaN</td>\n",
              "      <td>0.0</td>\n",
              "      <td>212559409</td>\n",
              "      <td>25.04</td>\n",
              "      <td>33.5</td>\n",
              "      <td>8.552</td>\n",
              "      <td>5.06</td>\n",
              "      <td>14103.452</td>\n",
              "      <td>3.4</td>\n",
              "      <td>177.961</td>\n",
              "      <td>8.11</td>\n",
              "      <td>10.1</td>\n",
              "      <td>17.9</td>\n",
              "      <td>NaN</td>\n",
              "      <td>2.2</td>\n",
              "      <td>75.88</td>\n",
              "    </tr>\n",
              "    <tr>\n",
              "      <th>3235</th>\n",
              "      <td>BRA</td>\n",
              "      <td>South America</td>\n",
              "      <td>Brazil</td>\n",
              "      <td>2020-01-03</td>\n",
              "      <td>0.0</td>\n",
              "      <td>0.0</td>\n",
              "      <td>0.0</td>\n",
              "      <td>0.0</td>\n",
              "      <td>0.0</td>\n",
              "      <td>0.0</td>\n",
              "      <td>0.0</td>\n",
              "      <td>0.0</td>\n",
              "      <td>NaN</td>\n",
              "      <td>NaN</td>\n",
              "      <td>NaN</td>\n",
              "      <td>NaN</td>\n",
              "      <td>NaN</td>\n",
              "      <td>NaN</td>\n",
              "      <td>NaN</td>\n",
              "      <td>0.0</td>\n",
              "      <td>212559409</td>\n",
              "      <td>25.04</td>\n",
              "      <td>33.5</td>\n",
              "      <td>8.552</td>\n",
              "      <td>5.06</td>\n",
              "      <td>14103.452</td>\n",
              "      <td>3.4</td>\n",
              "      <td>177.961</td>\n",
              "      <td>8.11</td>\n",
              "      <td>10.1</td>\n",
              "      <td>17.9</td>\n",
              "      <td>NaN</td>\n",
              "      <td>2.2</td>\n",
              "      <td>75.88</td>\n",
              "    </tr>\n",
              "    <tr>\n",
              "      <th>3236</th>\n",
              "      <td>BRA</td>\n",
              "      <td>South America</td>\n",
              "      <td>Brazil</td>\n",
              "      <td>2020-01-04</td>\n",
              "      <td>0.0</td>\n",
              "      <td>0.0</td>\n",
              "      <td>0.0</td>\n",
              "      <td>0.0</td>\n",
              "      <td>0.0</td>\n",
              "      <td>0.0</td>\n",
              "      <td>0.0</td>\n",
              "      <td>0.0</td>\n",
              "      <td>NaN</td>\n",
              "      <td>NaN</td>\n",
              "      <td>NaN</td>\n",
              "      <td>NaN</td>\n",
              "      <td>NaN</td>\n",
              "      <td>NaN</td>\n",
              "      <td>NaN</td>\n",
              "      <td>0.0</td>\n",
              "      <td>212559409</td>\n",
              "      <td>25.04</td>\n",
              "      <td>33.5</td>\n",
              "      <td>8.552</td>\n",
              "      <td>5.06</td>\n",
              "      <td>14103.452</td>\n",
              "      <td>3.4</td>\n",
              "      <td>177.961</td>\n",
              "      <td>8.11</td>\n",
              "      <td>10.1</td>\n",
              "      <td>17.9</td>\n",
              "      <td>NaN</td>\n",
              "      <td>2.2</td>\n",
              "      <td>75.88</td>\n",
              "    </tr>\n",
              "  </tbody>\n",
              "</table>\n",
              "</div>"
            ],
            "text/plain": [
              "     iso_code      continent  ... hospital_beds_per_thousand life_expectancy\n",
              "3232      BRA  South America  ...                        2.2           75.88\n",
              "3233      BRA  South America  ...                        2.2           75.88\n",
              "3234      BRA  South America  ...                        2.2           75.88\n",
              "3235      BRA  South America  ...                        2.2           75.88\n",
              "3236      BRA  South America  ...                        2.2           75.88\n",
              "\n",
              "[5 rows x 34 columns]"
            ]
          },
          "metadata": {
            "tags": []
          },
          "execution_count": 5
        }
      ]
    },
    {
      "cell_type": "markdown",
      "metadata": {
        "id": "JRlDWaeE9oGR",
        "colab_type": "text"
      },
      "source": [
        "### Data da primeira Morte registrada pela COVID-19\n",
        "\n",
        "Iniciaremos a nossa análise para o Brasil observando qual a data da primeira morte atribuida à COVID-19.\n",
        "\n",
        "Precisamos desta data, pois ela apoiará as próximas análises.\n",
        "\n",
        "Para identificarmos isso utilizaremos o método `loc`.\n"
      ]
    },
    {
      "cell_type": "code",
      "metadata": {
        "id": "mFZerwQe-S5u",
        "colab_type": "code",
        "colab": {
          "base_uri": "https://localhost:8080/",
          "height": 113
        },
        "outputId": "03aaf57d-91bf-4599-8796-1ae1d104127e"
      },
      "source": [
        "# vendo dia da primeira morte registrada\n",
        "\n",
        "df_brasil.loc[df['total_deaths']==1.0]"
      ],
      "execution_count": null,
      "outputs": [
        {
          "output_type": "execute_result",
          "data": {
            "text/html": [
              "<div>\n",
              "<style scoped>\n",
              "    .dataframe tbody tr th:only-of-type {\n",
              "        vertical-align: middle;\n",
              "    }\n",
              "\n",
              "    .dataframe tbody tr th {\n",
              "        vertical-align: top;\n",
              "    }\n",
              "\n",
              "    .dataframe thead th {\n",
              "        text-align: right;\n",
              "    }\n",
              "</style>\n",
              "<table border=\"1\" class=\"dataframe\">\n",
              "  <thead>\n",
              "    <tr style=\"text-align: right;\">\n",
              "      <th></th>\n",
              "      <th>iso_code</th>\n",
              "      <th>continent</th>\n",
              "      <th>location</th>\n",
              "      <th>date</th>\n",
              "      <th>total_cases</th>\n",
              "      <th>new_cases</th>\n",
              "      <th>total_deaths</th>\n",
              "      <th>new_deaths</th>\n",
              "      <th>total_cases_per_million</th>\n",
              "      <th>new_cases_per_million</th>\n",
              "      <th>total_deaths_per_million</th>\n",
              "      <th>new_deaths_per_million</th>\n",
              "      <th>total_tests</th>\n",
              "      <th>new_tests</th>\n",
              "      <th>total_tests_per_thousand</th>\n",
              "      <th>new_tests_per_thousand</th>\n",
              "      <th>new_tests_smoothed</th>\n",
              "      <th>new_tests_smoothed_per_thousand</th>\n",
              "      <th>tests_units</th>\n",
              "      <th>stringency_index</th>\n",
              "      <th>population</th>\n",
              "      <th>population_density</th>\n",
              "      <th>median_age</th>\n",
              "      <th>aged_65_older</th>\n",
              "      <th>aged_70_older</th>\n",
              "      <th>gdp_per_capita</th>\n",
              "      <th>extreme_poverty</th>\n",
              "      <th>cvd_death_rate</th>\n",
              "      <th>diabetes_prevalence</th>\n",
              "      <th>female_smokers</th>\n",
              "      <th>male_smokers</th>\n",
              "      <th>handwashing_facilities</th>\n",
              "      <th>hospital_beds_per_thousand</th>\n",
              "      <th>life_expectancy</th>\n",
              "    </tr>\n",
              "  </thead>\n",
              "  <tbody>\n",
              "    <tr>\n",
              "      <th>3310</th>\n",
              "      <td>BRA</td>\n",
              "      <td>South America</td>\n",
              "      <td>Brazil</td>\n",
              "      <td>2020-03-18</td>\n",
              "      <td>291.0</td>\n",
              "      <td>57.0</td>\n",
              "      <td>1.0</td>\n",
              "      <td>1.0</td>\n",
              "      <td>1.369</td>\n",
              "      <td>0.268</td>\n",
              "      <td>0.005</td>\n",
              "      <td>0.005</td>\n",
              "      <td>NaN</td>\n",
              "      <td>NaN</td>\n",
              "      <td>NaN</td>\n",
              "      <td>NaN</td>\n",
              "      <td>NaN</td>\n",
              "      <td>NaN</td>\n",
              "      <td>NaN</td>\n",
              "      <td>60.65</td>\n",
              "      <td>212559409</td>\n",
              "      <td>25.04</td>\n",
              "      <td>33.5</td>\n",
              "      <td>8.552</td>\n",
              "      <td>5.06</td>\n",
              "      <td>14103.452</td>\n",
              "      <td>3.4</td>\n",
              "      <td>177.961</td>\n",
              "      <td>8.11</td>\n",
              "      <td>10.1</td>\n",
              "      <td>17.9</td>\n",
              "      <td>NaN</td>\n",
              "      <td>2.2</td>\n",
              "      <td>75.88</td>\n",
              "    </tr>\n",
              "  </tbody>\n",
              "</table>\n",
              "</div>"
            ],
            "text/plain": [
              "     iso_code      continent  ... hospital_beds_per_thousand life_expectancy\n",
              "3310      BRA  South America  ...                        2.2           75.88\n",
              "\n",
              "[1 rows x 34 columns]"
            ]
          },
          "metadata": {
            "tags": []
          },
          "execution_count": 31
        }
      ]
    },
    {
      "cell_type": "markdown",
      "metadata": {
        "id": "bKwKUh5e_WJE",
        "colab_type": "text"
      },
      "source": [
        "Podemos ver que a primeira morte pela COVID-19 registrada no Brasil foi no dia 18/03/2020.\n",
        "\n",
        "Podemos verificar agora qual a diferença de dias entre este dia da primeira morte notificada no Brasil pela COVID-19 e o dia do primeiro caso da COVID-19 registrado no Brasil. "
      ]
    },
    {
      "cell_type": "code",
      "metadata": {
        "id": "z0hzk3E0ALw9",
        "colab_type": "code",
        "colab": {
          "base_uri": "https://localhost:8080/",
          "height": 76
        },
        "outputId": "03ce294e-421b-44db-8bf5-a13f5bcf8cbe"
      },
      "source": [
        "# vendo diferença de dias entre o primeiro caso e a primeira morte no brasil\n",
        "\n",
        "# data da primeira morte\n",
        "\n",
        "df_brasil.loc[df['total_deaths']==1.0, ['location', 'date', 'total_deaths']]"
      ],
      "execution_count": null,
      "outputs": [
        {
          "output_type": "execute_result",
          "data": {
            "text/html": [
              "<div>\n",
              "<style scoped>\n",
              "    .dataframe tbody tr th:only-of-type {\n",
              "        vertical-align: middle;\n",
              "    }\n",
              "\n",
              "    .dataframe tbody tr th {\n",
              "        vertical-align: top;\n",
              "    }\n",
              "\n",
              "    .dataframe thead th {\n",
              "        text-align: right;\n",
              "    }\n",
              "</style>\n",
              "<table border=\"1\" class=\"dataframe\">\n",
              "  <thead>\n",
              "    <tr style=\"text-align: right;\">\n",
              "      <th></th>\n",
              "      <th>location</th>\n",
              "      <th>date</th>\n",
              "      <th>total_deaths</th>\n",
              "    </tr>\n",
              "  </thead>\n",
              "  <tbody>\n",
              "    <tr>\n",
              "      <th>3310</th>\n",
              "      <td>Brazil</td>\n",
              "      <td>2020-03-18</td>\n",
              "      <td>1.0</td>\n",
              "    </tr>\n",
              "  </tbody>\n",
              "</table>\n",
              "</div>"
            ],
            "text/plain": [
              "     location        date  total_deaths\n",
              "3310   Brazil  2020-03-18           1.0"
            ]
          },
          "metadata": {
            "tags": []
          },
          "execution_count": 6
        }
      ]
    },
    {
      "cell_type": "code",
      "metadata": {
        "id": "AHbc8Bs-AuUA",
        "colab_type": "code",
        "colab": {
          "base_uri": "https://localhost:8080/",
          "height": 164
        },
        "outputId": "a3140402-4b4c-45aa-d44b-d23a58a7f4a6"
      },
      "source": [
        "# data do primeiro caso\n",
        "\n",
        "df_brasil.loc[df['total_cases']==1.0, ['location', 'date', 'total_cases']]"
      ],
      "execution_count": null,
      "outputs": [
        {
          "output_type": "execute_result",
          "data": {
            "text/html": [
              "<div>\n",
              "<style scoped>\n",
              "    .dataframe tbody tr th:only-of-type {\n",
              "        vertical-align: middle;\n",
              "    }\n",
              "\n",
              "    .dataframe tbody tr th {\n",
              "        vertical-align: top;\n",
              "    }\n",
              "\n",
              "    .dataframe thead th {\n",
              "        text-align: right;\n",
              "    }\n",
              "</style>\n",
              "<table border=\"1\" class=\"dataframe\">\n",
              "  <thead>\n",
              "    <tr style=\"text-align: right;\">\n",
              "      <th></th>\n",
              "      <th>location</th>\n",
              "      <th>date</th>\n",
              "      <th>total_cases</th>\n",
              "    </tr>\n",
              "  </thead>\n",
              "  <tbody>\n",
              "    <tr>\n",
              "      <th>3289</th>\n",
              "      <td>Brazil</td>\n",
              "      <td>2020-02-26</td>\n",
              "      <td>1.0</td>\n",
              "    </tr>\n",
              "    <tr>\n",
              "      <th>3290</th>\n",
              "      <td>Brazil</td>\n",
              "      <td>2020-02-27</td>\n",
              "      <td>1.0</td>\n",
              "    </tr>\n",
              "    <tr>\n",
              "      <th>3291</th>\n",
              "      <td>Brazil</td>\n",
              "      <td>2020-02-28</td>\n",
              "      <td>1.0</td>\n",
              "    </tr>\n",
              "    <tr>\n",
              "      <th>3292</th>\n",
              "      <td>Brazil</td>\n",
              "      <td>2020-02-29</td>\n",
              "      <td>1.0</td>\n",
              "    </tr>\n",
              "  </tbody>\n",
              "</table>\n",
              "</div>"
            ],
            "text/plain": [
              "     location        date  total_cases\n",
              "3289   Brazil  2020-02-26          1.0\n",
              "3290   Brazil  2020-02-27          1.0\n",
              "3291   Brazil  2020-02-28          1.0\n",
              "3292   Brazil  2020-02-29          1.0"
            ]
          },
          "metadata": {
            "tags": []
          },
          "execution_count": 49
        }
      ]
    },
    {
      "cell_type": "markdown",
      "metadata": {
        "id": "LZxTsx8TD_eQ",
        "colab_type": "text"
      },
      "source": [
        "Vemos que o primeiro caso da COVID-19 no Brasil foi registrado no dia 26/02/2020, enquanto que a primeira morte foi registrada dia 18/03/2020. \n",
        "\n",
        "Portando temos uma diferença de 21 dias entre estas datas."
      ]
    },
    {
      "cell_type": "markdown",
      "metadata": {
        "id": "MPLSCQ4PHVKC",
        "colab_type": "text"
      },
      "source": [
        "### Gráfico de linhas em escala linear para Casos e Mortes totais\n",
        "\n",
        "Como ja dito, conseguimos visualizar melhor e tirar mais insights observando gráfico, por isso agora faremos gráficos de linha em escala linear para número de casso e número de mortes para o Brasil até o dia 20/06/2020.\n",
        "\n",
        "Posteriormente faremos também gráficos de linhas em escala logarítmica para essas mesmas variáveis."
      ]
    },
    {
      "cell_type": "code",
      "metadata": {
        "id": "uryaa9vrPZjh",
        "colab_type": "code",
        "colab": {
          "base_uri": "https://localhost:8080/",
          "height": 941
        },
        "outputId": "76a5ec3d-3c7a-4e2e-ff9c-cf4d64a88312"
      },
      "source": [
        "# grafico de linhas escala linear para casos e mortes\n",
        "\n",
        "df_brasil_casos = df_brasil.loc[df['location']=='Brazil', ['date', 'total_cases']].set_index('date').copy()\n",
        "df_brasil_mortes = df_brasil.loc[df['location']=='Brazil', ['date', 'total_deaths']].set_index('date').copy()\n",
        "\n",
        "sns.set()\n",
        "fig, (ax1, ax2) = plt.subplots(2, 1, figsize=(15, 13))\n",
        "\n",
        "df_brasil_casos.plot(ax=ax1, marker ='o', markevery=[-1], markersize=10)\n",
        "ax1.set_title('Evolução do número de casos de COVID-19 no Brasil')\n",
        "ax1.set_xlabel('Data')\n",
        "ax1.set_ylabel('Número de casos')\n",
        "ax1.set_yticklabels(['0', '0', '200000', '400000', '600000', '800000', '1000000'])\n",
        "ax1.text(len(df_brasil_casos)-3, df_brasil_casos.total_cases[-1],\n",
        "         int(df_brasil_casos.total_cases[-1]), ha='right')\n",
        "ax1.legend(['Total de Casos'])\n",
        "\n",
        "\n",
        "\n",
        "\n",
        "df_brasil_mortes.plot(ax=ax2, color='r',marker='x', markevery=[-1], markersize=10,\n",
        "                      markeredgewidth=4)\n",
        "ax2.set_title('Evolução do número de mortes de COVID-19 no Brasil')\n",
        "ax2.set_xlabel('Data')\n",
        "ax2.set_ylabel('Número de mortes')\n",
        "ax2.text(len(df_brasil_mortes)-3, df_brasil_mortes.total_deaths[-1],\n",
        "         int(df_brasil_mortes.total_deaths[-1]), ha='right')\n",
        "ax2.legend(['Total de Mortes'])\n",
        "\n",
        "\n",
        "\n",
        "plt.tight_layout()"
      ],
      "execution_count": 196,
      "outputs": [
        {
          "output_type": "display_data",
          "data": {
            "image/png": "[encoded data removed]",
            "text/plain": [
              "<Figure size 1080x936 with 2 Axes>"
            ]
          },
          "metadata": {
            "tags": []
          }
        }
      ]
    },
    {
      "cell_type": "markdown",
      "metadata": {
        "id": "VawK3eN-2gfu",
        "colab_type": "text"
      },
      "source": [
        "Podemos observar que ambos os gráficos seguem uma curva semelhante. Além disso, eles seguem a tendência do gráfico que mostra a evolução mundial.\n",
        "\n",
        "Assim como dito para o gráfico mundial, podemos afirmar que em nenhum destes dois é visto qualquer indício de achatamento da curva, ou seja, indício de que se atingiu o topo.\n",
        "\n",
        "Observando a escala dos dois gráficos vemos que a quantidade de infectados é muito maior que a quantidade de mortes, mesmo essa quantidade de mortes sendo muito expressiva."
      ]
    },
    {
      "cell_type": "markdown",
      "metadata": {
        "id": "jvSxTex1pMZV",
        "colab_type": "text"
      },
      "source": [
        "### Gráfico de linhas em escala Logarítmica para Casos e Mortes totais\n",
        "\n",
        "Faremos agora com os mesmos dados usados nos gráficos acima, um gráfico de linhas em escala logarítimica.\n",
        "\n",
        "Será feito essa mudança de escala para mostrar que realmente o crescimento tanto de casos como de mortes em uma pandemia crescem de forma exponencial.\n",
        "\n",
        "Em uma escala linear, curvas exponenciais crescentes seguem uma trajetória próxima à essas apresentadas acima. \n",
        "\n",
        "Porém, quando mudamos a escala do eixo Y para uma escala logarítimica, essas mesmas curvas exponenciais tendem a serem suavizadas, se aproximando de uma reta. Portanto, para mostrar que, de fato, nas curvas dos gráficos acima nós temos traços de uma função exponencial, mostraremos sua suavização agora em um gráfico em escala logarítimica. "
      ]
    },
    {
      "cell_type": "code",
      "metadata": {
        "id": "viWuVcgXWUYI",
        "colab_type": "code",
        "colab": {
          "base_uri": "https://localhost:8080/",
          "height": 941
        },
        "outputId": "031d9238-cf99-484b-a573-b5a1e775e529"
      },
      "source": [
        "# grafico em escala logaritmica para mortes e casos\n",
        "\n",
        "\n",
        "sns.set()\n",
        "fig, (ax1, ax2) = plt.subplots(2, 1, figsize=(15, 13))\n",
        "\n",
        "df_brasil_casos.plot(ax=ax1, marker ='o', markevery=[-1], markersize=10)\n",
        "ax1.set_yscale('log')\n",
        "ax1.set_xlim(57)\n",
        "ax1.set_xlabel('Data')\n",
        "ax1.set_title('Casos de COVID-19 no Brasil em escala Logarítima')\n",
        "ax1.legend(['Total de Casos'])\n",
        "\n",
        "\n",
        "df_brasil_mortes.plot(ax=ax2, color='r', marker='x', markevery=[-1], markersize=10,\n",
        "                      markeredgewidth=4)\n",
        "ax2.set_yscale('log')\n",
        "ax2.set_xlim(78)\n",
        "ax2.set_xlabel('Data')\n",
        "ax2.set_title('Mortes de COVID-19 no Brasil em escala Logarítima')\n",
        "ax2.legend(['Total de Mortes'])\n",
        "\n",
        "\n",
        "\n",
        "plt.tight_layout()"
      ],
      "execution_count": 195,
      "outputs": [
        {
          "output_type": "display_data",
          "data": {
            "image/png": "[encoded data removed]",
            "text/plain": [
              "<Figure size 1080x936 with 2 Axes>"
            ]
          },
          "metadata": {
            "tags": []
          }
        }
      ]
    },
    {
      "cell_type": "markdown",
      "metadata": {
        "id": "m2zMMTMSYFvm",
        "colab_type": "text"
      },
      "source": [
        "Note que em ambas as curvas não temos a formação de uma reta. Isso ocorre, pois estamos falando de algo real, e não ideal. Temos vários fatores, além do crescimento exponencial, que rege a evolução de uma pandemia. Estes fatores fazem com que essa curva não se torne uma reta de fato.\n",
        "\n",
        "Porém note que ambas as curvas foram suavizadas em relação aos gráficos lineares. Isso ja nos da indicios de que realmente ambas as curvas possuem traços de exponencialidade."
      ]
    },
    {
      "cell_type": "markdown",
      "metadata": {
        "id": "LCsiXvM3BcsO",
        "colab_type": "text"
      },
      "source": [
        "## Conclusão\n",
        "\n",
        "É possível concluir, diante dos dados analisados e da situação que todos estão  passando, que a situação é crítica. Como mostrado nos gráficos e tabelas referentes ao Brasil temos mais de 1.000.000 de casos confirmados e aproximadamente 50.000 mortes, sendo o primeiro caso confirmado no dia 26/02/2020.\n",
        "\n",
        "Considerando o mundo todo temos números ainda maiores. Ao todo, até o dia 20/06/2020 tinhamos mais de 8.500.000 casos confirmados da COVID-19.\n",
        "\n",
        "Vimos que existe uma peculiaridade com a Russia e a India em relação ao número total de casos e o número total de mortes.\n",
        "\n",
        "Por fim observamos o comportamento exponencial da curva de evolução de casos e mortes de uma pandemia.\n",
        "\n",
        "É necessário, em tempos de crise como esse, que todos entendam o peso que os dados aqui apresentadas possuem. São muitos mortos, são muitos casos. \n",
        "Se esforçar para nos manter-mos dentro de casa e só sair for extremamente necessário é essencial para superarmos este momento. \n",
        "\n",
        "Estudos como este são essenciais para a propagação de conhecimento e contribuição para a resolução do problema o quanto antes. Agradeço muito caso você tenha chegado até aqui, até mais!"
      ]
    },
    {
      "cell_type": "code",
      "metadata": {
        "id": "yFSL0mU7nwju",
        "colab_type": "code",
        "colab": {}
      },
      "source": [
        ""
      ],
      "execution_count": null,
      "outputs": []
    }
  ]
}